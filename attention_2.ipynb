{
 "cells": [
  {
   "cell_type": "markdown",
   "id": "e00ed732-c657-4db0-85b7-167907b382b1",
   "metadata": {
    "tags": []
   },
   "source": [
    "# GRU + Attention"
   ]
  },
  {
   "cell_type": "markdown",
   "id": "a5842913-716a-49ff-8f46-2d5e5a175c6d",
   "metadata": {
    "tags": []
   },
   "source": [
    "## Overview"
   ]
  },
  {
   "cell_type": "markdown",
   "id": "ef11f2fb-5269-4c19-8c01-9006215208e9",
   "metadata": {},
   "source": [
    "**This notebook extends the GRU Classifier model (movie watching) described in the [paper](https://journals.plos.org/ploscompbiol/article?id=10.1371/journal.pcbi.1008943)  by adding an `Attention Layer`**\n",
    "\n",
    "Attention used here was first presented by Dzmitry Bahdanau, et al. in their paper [Neural Machine Translation by Jointly Learning to Align and Translate](https://arxiv.org/abs/1409.0473).\n"
   ]
  },
  {
   "cell_type": "markdown",
   "id": "2cd10e05-5e39-4c34-897a-67151f7179e4",
   "metadata": {
    "tags": []
   },
   "source": [
    "---\n",
    "## Data"
   ]
  },
  {
   "cell_type": "markdown",
   "id": "3d315492-15a6-46b8-8527-1e65f9712314",
   "metadata": {},
   "source": [
    "**Data provided is already preprocessed but needs to be converted in model usabale format**"
   ]
  },
  {
   "cell_type": "code",
   "execution_count": 1,
   "id": "3f6f36f2-a0bf-4460-bc88-4906ed055872",
   "metadata": {},
   "outputs": [],
   "source": [
    "import torch\n",
    "import pickle\n",
    "import numpy as np\n",
    "import torch.nn as nn"
   ]
  },
  {
   "cell_type": "code",
   "execution_count": 2,
   "id": "e1556b2d-782b-41c5-ade7-86913ca18b6d",
   "metadata": {},
   "outputs": [
    {
     "name": "stdout",
     "output_type": "stream",
     "text": [
      "dict_keys(['testretest', 'twomen', 'bridgeville', 'pockets', 'overcome', 'inception', 'socialnet', 'oceans', 'flower', 'hotel', 'garden', 'dreary', 'homealone', 'brokovich', 'starwars'])\n"
     ]
    }
   ],
   "source": [
    "with open('HCP_movie_watching.pkl','rb') as f:\n",
    "    TS = pickle.load(f)\n",
    "print(TS.keys())"
   ]
  },
  {
   "cell_type": "markdown",
   "id": "187648f5-bbf9-4131-bfd9-b9522b6ea286",
   "metadata": {
    "tags": []
   },
   "source": [
    "### Dataset organization\n",
    "`TS` is a dictionary with movie names as keys\n",
    "\n",
    "Value against each key is a numpy array of dimensions `[#participants, #time points, #ROIs]`\n",
    "\n",
    "Note that the testretest movie appears on all 4 runs for a participant, therefore the value has dimensions `[#runs, #participants, #time points, #ROIs]`"
   ]
  },
  {
   "cell_type": "code",
   "execution_count": 3,
   "id": "43363337-d949-448f-b761-99a9897a4f8d",
   "metadata": {},
   "outputs": [
    {
     "name": "stdout",
     "output_type": "stream",
     "text": [
      "testretest (4, 176, 84, 300)\n",
      "twomen (176, 245, 300)\n",
      "bridgeville (176, 222, 300)\n",
      "pockets (176, 189, 300)\n",
      "overcome (176, 65, 300)\n",
      "inception (176, 227, 300)\n",
      "socialnet (176, 260, 300)\n",
      "oceans (176, 250, 300)\n",
      "flower (176, 181, 300)\n",
      "hotel (176, 186, 300)\n",
      "garden (176, 205, 300)\n",
      "dreary (176, 143, 300)\n",
      "homealone (176, 233, 300)\n",
      "brokovich (176, 231, 300)\n",
      "starwars (176, 256, 300)\n"
     ]
    }
   ],
   "source": [
    "rel = {}\n",
    "l = 0\n",
    "for movie_name, ts in TS.items():\n",
    "    rel[movie_name] = l\n",
    "    l += 1\n",
    "    print(movie_name, ts.shape)"
   ]
  },
  {
   "cell_type": "markdown",
   "id": "7abfc207-6280-47e7-92c3-d77e5f908289",
   "metadata": {
    "tags": []
   },
   "source": [
    "### Padding sequences\n",
    "\n",
    "To deal with varying `time points`. For data with `time points < seq_length(self defined)` , I have paded them with 0s. For data with `time points > seq_length(self defined)`, I have split the data into 2 section first, into `[ : seq_length]`, second into `[data_time_point-seq_length : ]`. I have used the `seq_length = 198` (average time_point mentioned in the paper).\n",
    "\n",
    "**Final `features` array is a 2D array, with shape = `(seq_length,300)`.**\n",
    "\n",
    "The following block shows above mentioned discussion"
   ]
  },
  {
   "cell_type": "code",
   "execution_count": 4,
   "id": "607d6a22-aa55-4a97-81d0-1298f5886666",
   "metadata": {},
   "outputs": [
    {
     "name": "stdout",
     "output_type": "stream",
     "text": [
      "176\n",
      "176\n",
      "176\n",
      "176\n",
      "176\n",
      "176\n",
      "176\n",
      "176\n",
      "176\n",
      "176\n",
      "176\n",
      "176\n",
      "176\n",
      "176\n",
      "176\n",
      "176\n",
      "176\n",
      "176\n"
     ]
    }
   ],
   "source": [
    "train_feature = []\n",
    "test_feature  = []\n",
    "train_target  = []\n",
    "test_target   = []\n",
    "seq_length    = 198\n",
    "\n",
    "for movie_name, ts in TS.items():\n",
    "    pep = 0\n",
    "    if movie_name != \"testretest\":\n",
    "        for i in ts:\n",
    "            pep += 1\n",
    "            if (pep <= 100):\n",
    "                if i.shape[0]>seq_length:\n",
    "                    k = i[:seq_length][:]\n",
    "                    train_feature.append(k)\n",
    "                    train_target.append(rel[movie_name])\n",
    "                    \n",
    "                    k = i[i.shape[0]-seq_length:][:]\n",
    "                    train_feature.append(k)\n",
    "                    train_target.append(rel[movie_name])\n",
    "                \n",
    "                elif i.shape[0]<seq_length:\n",
    "                    k = [[0]*300]*seq_length\n",
    "                    k[seq_length-i.shape[0]:] = i\n",
    "                    train_feature.append(k)\n",
    "                    train_target.append(rel[movie_name])\n",
    "                else:\n",
    "                    train_feature.append(i)\n",
    "                    train_target.append(rel[movie_name])\n",
    "\n",
    "            else:\n",
    "                if i.shape[0]>seq_length:\n",
    "                    k = i[:seq_length][:]\n",
    "                    test_feature.append(k)\n",
    "                    test_target.append(rel[movie_name])\n",
    "                   \n",
    "                    k = i[i.shape[0]-seq_length:][:]\n",
    "                    test_feature.append(k)\n",
    "                    test_target.append(rel[movie_name])\n",
    "                \n",
    "                elif i.shape[0]<seq_length:\n",
    "                    k = [[0]*300]*seq_length\n",
    "                    k[seq_length-i.shape[0]:] = i\n",
    "                    test_feature.append(k)\n",
    "                    test_target.append(rel[movie_name])\n",
    "                else:\n",
    "                    test_feature.append(i)\n",
    "                    test_target.append(rel[movie_name])\n",
    "        print(pep)\n",
    "    else:\n",
    "        for jj in ts:\n",
    "            pep = 0\n",
    "            for i in jj:\n",
    "                pep += 1\n",
    "                if (pep <= 101):\n",
    "                    if i.shape[0]>seq_length:\n",
    "                        k = i[:seq_length][:]\n",
    "                        train_feature.append(k)\n",
    "                        train_target.append(rel[movie_name])\n",
    "\n",
    "                        k = i[i.shape[0]-seq_length:][:]\n",
    "                        train_feature.append(k)\n",
    "                        train_target.append(rel[movie_name])\n",
    "\n",
    "                    elif i.shape[0]<seq_length:\n",
    "                        k = [[0]*300]*seq_length\n",
    "                        k[seq_length-i.shape[0]:] = i\n",
    "                        train_feature.append(k)\n",
    "                        train_target.append(rel[movie_name])\n",
    "                    else:\n",
    "                        train_feature.append(i)\n",
    "                        train_target.append(rel[movie_name])\n",
    "\n",
    "                else:\n",
    "                    if i.shape[0]>seq_length:\n",
    "                        k = i[:seq_length][:]\n",
    "                        test_feature.append(k)\n",
    "                        test_target.append(rel[movie_name])\n",
    "\n",
    "                        k = i[i.shape[0]-seq_length:][:]\n",
    "                        test_feature.append(k)\n",
    "                        test_target.append(rel[movie_name])\n",
    "\n",
    "                    elif i.shape[0]<seq_length:\n",
    "                        k = [[0]*300]*seq_length\n",
    "                        k[seq_length-i.shape[0]:] = i\n",
    "                        test_feature.append(k)\n",
    "                        test_target.append(rel[movie_name])\n",
    "                    else:\n",
    "                        test_feature.append(i)\n",
    "                        test_target.append(rel[movie_name])\n",
    "            print(pep)"
   ]
  },
  {
   "cell_type": "markdown",
   "id": "2c2c547f-dd11-4881-8f6d-bf9a04787a6a",
   "metadata": {
    "tags": []
   },
   "source": [
    "### Training, Validation, Test\n",
    "\n",
    "With the data in required shape, The following shows the split into training, validation, and test sets."
   ]
  },
  {
   "cell_type": "code",
   "execution_count": 5,
   "id": "da6d9f56-10ec-4c07-803b-0b8d2d30643f",
   "metadata": {},
   "outputs": [
    {
     "data": {
      "text/plain": [
       "(2704, 2048)"
      ]
     },
     "execution_count": 5,
     "metadata": {},
     "output_type": "execute_result"
    }
   ],
   "source": [
    "len(train_feature), len(test_feature)"
   ]
  },
  {
   "cell_type": "code",
   "execution_count": 6,
   "id": "31cc2a9b-713e-4b6a-a469-944aae53384d",
   "metadata": {},
   "outputs": [],
   "source": [
    "from torch.utils.data import TensorDataset, DataLoader\n",
    "\n",
    "train_data = TensorDataset(torch.from_numpy(np.array(train_feature)).float(),torch.from_numpy(np.array(train_target)).float())\n",
    "test_data  = TensorDataset(torch.from_numpy(np.array(test_feature)).float(),torch.from_numpy(np.array(test_target)).float())"
   ]
  },
  {
   "cell_type": "code",
   "execution_count": 7,
   "id": "6deceaea-cf4f-4516-8bea-dd4cbd609de5",
   "metadata": {},
   "outputs": [
    {
     "data": {
      "text/plain": [
       "(2704, 2048)"
      ]
     },
     "execution_count": 7,
     "metadata": {},
     "output_type": "execute_result"
    }
   ],
   "source": [
    "len(train_data),len(test_data)"
   ]
  },
  {
   "cell_type": "code",
   "execution_count": 8,
   "id": "b08f7b66-b862-4421-be4b-d1bf95336c7d",
   "metadata": {},
   "outputs": [],
   "source": [
    "from torch.utils.data.sampler import SubsetRandomSampler\n",
    "\n",
    "batch_size = 32\n",
    "valid_data  = 0.25\n",
    "t_train     = len(train_data)\n",
    "data_no     = list(range(t_train))\n",
    "np.random.shuffle(data_no)\n",
    "split_no    = int(np.ceil(valid_data*t_train))\n",
    "train,valid = data_no[split_no:],data_no[:split_no]\n",
    "\n",
    "train_sampler = SubsetRandomSampler(train)\n",
    "valid_sampler = SubsetRandomSampler(valid)\n",
    "\n",
    "train_loader  = DataLoader(train_data,batch_size=batch_size,sampler=train_sampler,drop_last=True)\n",
    "valid_loader  = DataLoader(train_data,sampler=valid_sampler,batch_size=batch_size,drop_last=True)\n",
    "test_loader   = DataLoader(test_data, batch_size=batch_size,shuffle = True)"
   ]
  },
  {
   "cell_type": "code",
   "execution_count": 9,
   "id": "712778a9-8de2-43c0-a828-3e0f10e1d900",
   "metadata": {},
   "outputs": [
    {
     "data": {
      "text/plain": [
       "676"
      ]
     },
     "execution_count": 9,
     "metadata": {},
     "output_type": "execute_result"
    }
   ],
   "source": [
    "len(valid)"
   ]
  },
  {
   "cell_type": "code",
   "execution_count": 10,
   "id": "b8b16bb6-a738-453b-b643-614545dff6ef",
   "metadata": {},
   "outputs": [
    {
     "data": {
      "text/plain": [
       "(63, 21, 64)"
      ]
     },
     "execution_count": 10,
     "metadata": {},
     "output_type": "execute_result"
    }
   ],
   "source": [
    "len(train_loader),len(valid_loader),len(test_loader)"
   ]
  },
  {
   "cell_type": "code",
   "execution_count": 11,
   "id": "0164e572-1cde-43d2-9962-8807168c9f1c",
   "metadata": {},
   "outputs": [
    {
     "data": {
      "text/plain": [
       "torch.Size([32, 198, 300])"
      ]
     },
     "execution_count": 11,
     "metadata": {},
     "output_type": "execute_result"
    }
   ],
   "source": [
    "iter(train_loader).next()[0].shape"
   ]
  },
  {
   "cell_type": "code",
   "execution_count": 12,
   "id": "94466fed-c399-40ae-bcac-6531df7eb884",
   "metadata": {},
   "outputs": [
    {
     "data": {
      "text/plain": [
       "device(type='cuda')"
      ]
     },
     "execution_count": 12,
     "metadata": {},
     "output_type": "execute_result"
    }
   ],
   "source": [
    "is_cuda = torch.cuda.is_available()\n",
    "\n",
    "if is_cuda:\n",
    "    device = torch.device(\"cuda\")\n",
    "else:\n",
    "    device = torch.device(\"cpu\")\n",
    "device"
   ]
  },
  {
   "cell_type": "markdown",
   "id": "6b125b2a-bb8d-4ce6-9f0a-8e069a79df24",
   "metadata": {
    "tags": []
   },
   "source": [
    "## Models"
   ]
  },
  {
   "cell_type": "markdown",
   "id": "068beeed-357c-4d28-a104-eeaac7407776",
   "metadata": {},
   "source": [
    "### Implementing the `Attention(Bahdanau)` Model\n",
    "\n",
    "Following figures shows the steps involved in: Blue are the parameters\n",
    "\n",
    "<img src=\"attn_enc.png\">"
   ]
  },
  {
   "cell_type": "code",
   "execution_count": 13,
   "id": "99fdd311-29c9-4cc8-a8b3-7a969aca321c",
   "metadata": {},
   "outputs": [],
   "source": [
    "class Attention(nn.Module):\n",
    "    \n",
    "    def __init__(self, hidden_dim):\n",
    "        super().__init__()\n",
    "        \n",
    "        self.hidden_dim = hidden_dim\n",
    "        \n",
    "        self.W = nn.Linear(2*hidden_dim, hidden_dim, bias=False) \n",
    "        self.V = nn.Parameter(torch.rand(hidden_dim))\n",
    "        self.softmax = nn.Softmax(dim = 1)\n",
    "    \n",
    "    def forward(self, x_prev, hj):\n",
    "        ''' \n",
    "            PARAMS:           \n",
    "                hj: prev hidden_state:    [b, n_layers, hidden_dim]                \n",
    "                x_prev: prev gru layer output: [b, seq_len, hidden_dim] \n",
    "            \n",
    "            RETURN:\n",
    "                att_weights:    [b, src_seq_len] \n",
    "        '''\n",
    "        \n",
    "        hj = hj.permute(1, 0, 2)\n",
    "        batch_size = x_prev.size(0)\n",
    "        seq_len = x_prev.size(1)\n",
    "        \n",
    "        hj = hj[:, -1, :].unsqueeze(1).repeat(1, seq_len, 1)         #[b, seq_len, hidden_dim]\n",
    "        \n",
    "        tanh_W_s_h = torch.tanh(self.W(torch.cat((x_prev, hj), dim=2)))  #[b, sseq_len, hidden_dim]\n",
    "        tanh_W_s_h = tanh_W_s_h.permute(0, 2, 1)       #[b, hidden_dim, seq_len]\n",
    "        \n",
    "        V = self.V.repeat(batch_size, 1).unsqueeze(1)  #[b, 1, hidden_dim]\n",
    "        e = torch.bmm(V, tanh_W_s_h).squeeze(1)        #[b, seq_len]\n",
    "        \n",
    "        att_weights = self.softmax(e)              #[b, seq_len]\n",
    "        \n",
    "        return att_weights"
   ]
  },
  {
   "cell_type": "markdown",
   "id": "f8d18314-cd91-4a77-ac9e-a996e32f9f26",
   "metadata": {
    "tags": []
   },
   "source": [
    "### `GRU Classifier` Model as described in the [paper](https://journals.plos.org/ploscompbiol/article?id=10.1371/journal.pcbi.1008943) with added normalization layers\n",
    "<img src=\"gru.png\">"
   ]
  },
  {
   "cell_type": "code",
   "execution_count": 14,
   "id": "38bdfe5d-4dad-457c-b515-3ae4e337af61",
   "metadata": {},
   "outputs": [],
   "source": [
    "class GRU_RNN(nn.Module):\n",
    "\n",
    "    def __init__(self, input_dim, output_dim,hidden_dim,n_layers,att=True,drop_prob=0.000006):\n",
    "        super(GRU_RNN, self).__init__()\n",
    "\n",
    "        self.output_dim = output_dim\n",
    "        self.n_layers   = n_layers\n",
    "        self.hidden_dim = hidden_dim\n",
    "        self.att        = att\n",
    "        \n",
    "        self.gru       = nn.GRU(input_dim,hidden_dim,num_layers=n_layers,dropout=drop_prob,batch_first=True)\n",
    "\n",
    "        \n",
    "        self.linear    = nn.Linear(hidden_dim,output_dim)\n",
    "        if att:\n",
    "            self.attention = Attention(hidden_dim)\n",
    "            self.linear    = nn.Linear(2*hidden_dim,output_dim)\n",
    "        self.dropout   = nn.Dropout(0.3)\n",
    "        self.func      = nn.Softmax(dim = -1)\n",
    "\n",
    "    def forward(self, input_x, hj, prev_x):\n",
    "        xi,hi = self.gru(input_x,hj)\n",
    "\n",
    "        if self.att:\n",
    "            att_weights = self.attention(prev_x,hj).unsqueeze(1)\n",
    "            weighted_sum = torch.bmm(att_weights,xi)\n",
    "            x = torch.cat((weighted_sum.squeeze(1),prev_x[:,-1,:]), dim=1)\n",
    "        else:\n",
    "            x = xi[:, -1, :]\n",
    "        \n",
    "        x = self.dropout(x)\n",
    "        x = self.linear(x)\n",
    "        sig_out = self.func(x)\n",
    "\n",
    "        return sig_out,hi,xi\n",
    "    \n",
    "    def init_hidden(self, batch_size):\n",
    "        weight = next(self.parameters()).data\n",
    "        hidden = weight.new(self.n_layers, batch_size, self.hidden_dim).zero_().to(device)\n",
    "        return hidden"
   ]
  },
  {
   "cell_type": "markdown",
   "id": "782f2153-8768-40da-ad15-a1f3747840e4",
   "metadata": {
    "tags": []
   },
   "source": [
    "## Training"
   ]
  },
  {
   "cell_type": "code",
   "execution_count": 28,
   "id": "80c60a8b-78e7-4de1-b139-94d05c3ef499",
   "metadata": {},
   "outputs": [],
   "source": [
    "def train(epochs,train_loader,net,valid_loader,optimzer,criterion,att=True):\n",
    "    val_acc = []\n",
    "    tr_acc = []\n",
    "    \n",
    "    clip = 3 # gradient clipping\n",
    "\n",
    "    net.to(device)\n",
    "    net.train()\n",
    "    \n",
    "    valid_loss_min = np.Inf \n",
    "    \n",
    "    valid_losses = []\n",
    "    train_losses = []\n",
    "    prev_x = torch.zeros(batch_size,seq_length,hidden_dim).to(device)\n",
    "    nn.init.kaiming_uniform_(prev_x)\n",
    "    \n",
    "    for e in range(epochs):\n",
    "        num_correct = 0\n",
    "        h = net.init_hidden(batch_size)\n",
    "        prev_x = torch.zeros(batch_size,seq_length,hidden_dim).to(device)\n",
    "        nn.init.kaiming_uniform_(prev_x)\n",
    "        train_loss = []\n",
    "        valid_loss = []\n",
    "        train_acc  = 0.0\n",
    "        valid_acc  = 0.0 \n",
    "        counter = 0\n",
    "        for inputs, labels in train_loader:\n",
    "            inputs, labels = inputs.to(device), labels.type(torch.LongTensor).to(device)\n",
    "            h = h.data\n",
    "            net.zero_grad()\n",
    "\n",
    "            output, h, prev_x = net(inputs, h.detach(), prev_x.detach())\n",
    "            pred = torch.round(output.squeeze()) \n",
    "            top_value, top_index = torch.max(pred,1)\n",
    "            correct_tensor = top_index.eq(labels.float().view_as(top_index))\n",
    "            correct = np.squeeze(correct_tensor.to('cpu').numpy())\n",
    "            num_correct += np.sum(correct)\n",
    "\n",
    "\n",
    "            loss = criterion(output, labels)\n",
    "            loss.backward()\n",
    "            nn.utils.clip_grad_norm_(net.parameters(), clip)\n",
    "            optimizer.step()\n",
    "\n",
    "            train_loss.append(loss.item())\n",
    "        tr_acc.append(num_correct/((len(train_loader)-1)*batch_size))\n",
    "\n",
    "\n",
    "\n",
    "        acc = 0.0\n",
    "        val_h = net.init_hidden(batch_size)\n",
    "        val_prev_x = torch.zeros(batch_size,seq_length,hidden_dim).to(device)\n",
    "        nn.init.kaiming_uniform_(val_prev_x)\n",
    "        val_losses = []\n",
    "        net.eval()\n",
    "        num_correct = 0\n",
    "        v_c = 0\n",
    "        \n",
    "        for inputs, labels in valid_loader:\n",
    "            val_h = val_h.data\n",
    "            inputs, labels = inputs.to(device), labels.type(torch.LongTensor).to(device)\n",
    "\n",
    "            output, val_h, val_prev_x = net(inputs, val_h,val_prev_x)\n",
    "            \n",
    "            pred = torch.round(output.squeeze()) \n",
    "            top_value, top_index = torch.max(pred,1)\n",
    "            correct_tensor = top_index.eq(labels.float().view_as(top_index))\n",
    "            correct = np.squeeze(correct_tensor.to('cpu').numpy())\n",
    "            num_correct += np.sum(correct)\n",
    "\n",
    "            val_loss = criterion(output.squeeze(),labels)\n",
    "            val_losses.append(val_loss.item())\n",
    "            \n",
    "            if val_loss.item() <= valid_loss_min:\n",
    "                print('Validation loss decreased ({:.6f} --> {:.6f}).  Saving model ...'.format(valid_loss_min, val_loss.item()))\n",
    "                best_epoch = e\n",
    "                if att:\n",
    "                    torch.save(net.state_dict(), 'RNN_GRU_Att.pt')\n",
    "                else:\n",
    "                    torch.save(net.state_dict(), 'RNN_GRU.pt')\n",
    "                valid_loss_min = val_loss.item()\n",
    "\n",
    "        net.train()\n",
    "        valid_losses.append(np.mean(val_losses))\n",
    "        train_losses.append(np.mean(train_loss))\n",
    "        val_acc.append(num_correct/(len(valid_loader)*batch_size))\n",
    "        print('Epoch: {}/{} \\tTraining Loss: {:.6f} \\tValidation Loss: {:.6f}'.format(e+1,epochs,np.mean(train_loss),np.mean(val_losses)))\n",
    "    return train_losses,valid_losses,tr_acc,val_acc,best_epoch"
   ]
  },
  {
   "cell_type": "code",
   "execution_count": 29,
   "id": "f7f4a78c-9568-4b03-905b-e41dd00c79e2",
   "metadata": {},
   "outputs": [],
   "source": [
    "epochs     = 55\n",
    "input_dim  = 300\n",
    "hidden_dim = 32\n",
    "output_dim = 15\n",
    "n_layers   = 2\n",
    "lr         = 0.006"
   ]
  },
  {
   "cell_type": "markdown",
   "id": "cb106ebb-8426-416c-ada2-830c039d2ed3",
   "metadata": {},
   "source": [
    "### Training with Attention Layer"
   ]
  },
  {
   "cell_type": "code",
   "execution_count": 30,
   "id": "57404114-18e9-4aa3-bd8d-083439bb501f",
   "metadata": {},
   "outputs": [
    {
     "name": "stdout",
     "output_type": "stream",
     "text": [
      "GRU_RNN(\n",
      "  (gru): GRU(300, 32, num_layers=2, batch_first=True, dropout=6e-06)\n",
      "  (linear): Linear(in_features=64, out_features=15, bias=True)\n",
      "  (attention): Attention(\n",
      "    (W): Linear(in_features=64, out_features=32, bias=False)\n",
      "    (softmax): Softmax(dim=1)\n",
      "  )\n",
      "  (dropout): Dropout(p=0.3, inplace=False)\n",
      "  (func): Softmax(dim=-1)\n",
      ")\n"
     ]
    }
   ],
   "source": [
    "model     = GRU_RNN(input_dim, output_dim, hidden_dim, n_layers)\n",
    "optimizer = torch.optim.Adam(model.parameters(), lr=lr)\n",
    "criterion = nn.CrossEntropyLoss()\n",
    "print(model)"
   ]
  },
  {
   "cell_type": "code",
   "execution_count": 31,
   "id": "3fba8d73-163a-442f-80ca-03fa23f00d11",
   "metadata": {},
   "outputs": [
    {
     "name": "stdout",
     "output_type": "stream",
     "text": [
      "Validation loss decreased (inf --> 2.457238).  Saving model ...\n",
      "Validation loss decreased (2.457238 --> 2.373328).  Saving model ...\n",
      "Epoch: 1/55 \tTraining Loss: 2.599293 \tValidation Loss: 2.524363\n",
      "Validation loss decreased (2.373328 --> 2.341884).  Saving model ...\n",
      "Epoch: 2/55 \tTraining Loss: 2.468103 \tValidation Loss: 2.438837\n",
      "Validation loss decreased (2.341884 --> 2.293653).  Saving model ...\n",
      "Validation loss decreased (2.293653 --> 2.223446).  Saving model ...\n",
      "Epoch: 3/55 \tTraining Loss: 2.405302 \tValidation Loss: 2.387956\n",
      "Validation loss decreased (2.223446 --> 2.222155).  Saving model ...\n",
      "Epoch: 4/55 \tTraining Loss: 2.324601 \tValidation Loss: 2.307748\n",
      "Validation loss decreased (2.222155 --> 2.197115).  Saving model ...\n",
      "Validation loss decreased (2.197115 --> 2.122011).  Saving model ...\n",
      "Epoch: 5/55 \tTraining Loss: 2.259597 \tValidation Loss: 2.264010\n",
      "Validation loss decreased (2.122011 --> 2.107618).  Saving model ...\n",
      "Validation loss decreased (2.107618 --> 2.092265).  Saving model ...\n",
      "Epoch: 6/55 \tTraining Loss: 2.190341 \tValidation Loss: 2.177773\n",
      "Validation loss decreased (2.092265 --> 2.063604).  Saving model ...\n",
      "Epoch: 7/55 \tTraining Loss: 2.149294 \tValidation Loss: 2.178194\n",
      "Validation loss decreased (2.063604 --> 2.015322).  Saving model ...\n",
      "Epoch: 8/55 \tTraining Loss: 2.108910 \tValidation Loss: 2.129760\n",
      "Validation loss decreased (2.015322 --> 1.989239).  Saving model ...\n",
      "Validation loss decreased (1.989239 --> 1.976246).  Saving model ...\n",
      "Validation loss decreased (1.976246 --> 1.969607).  Saving model ...\n",
      "Epoch: 9/55 \tTraining Loss: 2.053796 \tValidation Loss: 2.078911\n",
      "Validation loss decreased (1.969607 --> 1.947604).  Saving model ...\n",
      "Epoch: 10/55 \tTraining Loss: 2.035371 \tValidation Loss: 2.060731\n",
      "Epoch: 11/55 \tTraining Loss: 2.012808 \tValidation Loss: 2.069265\n",
      "Epoch: 12/55 \tTraining Loss: 2.016757 \tValidation Loss: 2.078523\n",
      "Validation loss decreased (1.947604 --> 1.938853).  Saving model ...\n",
      "Epoch: 13/55 \tTraining Loss: 2.006350 \tValidation Loss: 2.048320\n",
      "Validation loss decreased (1.938853 --> 1.934308).  Saving model ...\n",
      "Validation loss decreased (1.934308 --> 1.933029).  Saving model ...\n",
      "Validation loss decreased (1.933029 --> 1.928182).  Saving model ...\n",
      "Epoch: 14/55 \tTraining Loss: 1.976431 \tValidation Loss: 1.993823\n",
      "Epoch: 15/55 \tTraining Loss: 1.955488 \tValidation Loss: 2.017503\n",
      "Validation loss decreased (1.928182 --> 1.922393).  Saving model ...\n",
      "Validation loss decreased (1.922393 --> 1.902889).  Saving model ...\n",
      "Epoch: 16/55 \tTraining Loss: 1.946516 \tValidation Loss: 1.995346\n",
      "Epoch: 17/55 \tTraining Loss: 1.953231 \tValidation Loss: 2.005012\n",
      "Validation loss decreased (1.902889 --> 1.902719).  Saving model ...\n",
      "Validation loss decreased (1.902719 --> 1.877347).  Saving model ...\n",
      "Epoch: 18/55 \tTraining Loss: 1.947722 \tValidation Loss: 1.984340\n",
      "Epoch: 19/55 \tTraining Loss: 1.932972 \tValidation Loss: 1.972273\n",
      "Validation loss decreased (1.877347 --> 1.864731).  Saving model ...\n",
      "Validation loss decreased (1.864731 --> 1.860011).  Saving model ...\n",
      "Validation loss decreased (1.860011 --> 1.843998).  Saving model ...\n",
      "Epoch: 20/55 \tTraining Loss: 1.927015 \tValidation Loss: 1.949134\n",
      "Epoch: 21/55 \tTraining Loss: 1.919861 \tValidation Loss: 1.973495\n",
      "Epoch: 22/55 \tTraining Loss: 1.918040 \tValidation Loss: 1.949350\n",
      "Epoch: 23/55 \tTraining Loss: 1.896321 \tValidation Loss: 1.932071\n",
      "Epoch: 24/55 \tTraining Loss: 1.900025 \tValidation Loss: 1.955758\n",
      "Epoch: 25/55 \tTraining Loss: 1.912035 \tValidation Loss: 1.956371\n",
      "Epoch: 26/55 \tTraining Loss: 1.915309 \tValidation Loss: 1.956767\n",
      "Epoch: 27/55 \tTraining Loss: 1.911251 \tValidation Loss: 1.948015\n",
      "Epoch: 28/55 \tTraining Loss: 1.896718 \tValidation Loss: 1.935864\n",
      "Epoch: 29/55 \tTraining Loss: 1.886154 \tValidation Loss: 1.927497\n",
      "Epoch: 30/55 \tTraining Loss: 1.881236 \tValidation Loss: 1.925111\n",
      "Epoch: 31/55 \tTraining Loss: 1.890488 \tValidation Loss: 1.937386\n",
      "Epoch: 32/55 \tTraining Loss: 1.902981 \tValidation Loss: 1.969439\n",
      "Epoch: 33/55 \tTraining Loss: 1.916307 \tValidation Loss: 1.942919\n",
      "Validation loss decreased (1.843998 --> 1.836706).  Saving model ...\n",
      "Epoch: 34/55 \tTraining Loss: 1.902257 \tValidation Loss: 1.938263\n",
      "Epoch: 35/55 \tTraining Loss: 1.890190 \tValidation Loss: 1.938289\n",
      "Epoch: 36/55 \tTraining Loss: 1.892686 \tValidation Loss: 1.932224\n",
      "Validation loss decreased (1.836706 --> 1.827536).  Saving model ...\n",
      "Epoch: 37/55 \tTraining Loss: 1.909522 \tValidation Loss: 1.943655\n",
      "Epoch: 38/55 \tTraining Loss: 1.917515 \tValidation Loss: 1.932843\n",
      "Epoch: 39/55 \tTraining Loss: 1.900651 \tValidation Loss: 1.929024\n",
      "Epoch: 40/55 \tTraining Loss: 1.889435 \tValidation Loss: 1.926753\n",
      "Validation loss decreased (1.827536 --> 1.826634).  Saving model ...\n",
      "Epoch: 41/55 \tTraining Loss: 1.886197 \tValidation Loss: 1.927034\n",
      "Validation loss decreased (1.826634 --> 1.823769).  Saving model ...\n",
      "Epoch: 42/55 \tTraining Loss: 1.880218 \tValidation Loss: 1.914281\n",
      "Epoch: 43/55 \tTraining Loss: 1.877535 \tValidation Loss: 1.916815\n",
      "Validation loss decreased (1.823769 --> 1.820724).  Saving model ...\n",
      "Epoch: 44/55 \tTraining Loss: 1.879146 \tValidation Loss: 1.913199\n",
      "Epoch: 45/55 \tTraining Loss: 1.865679 \tValidation Loss: 1.904695\n",
      "Epoch: 46/55 \tTraining Loss: 1.865179 \tValidation Loss: 1.906178\n",
      "Epoch: 47/55 \tTraining Loss: 1.876360 \tValidation Loss: 1.927046\n",
      "Epoch: 48/55 \tTraining Loss: 1.882865 \tValidation Loss: 1.932765\n",
      "Epoch: 49/55 \tTraining Loss: 1.887669 \tValidation Loss: 1.929597\n",
      "Epoch: 50/55 \tTraining Loss: 1.890348 \tValidation Loss: 1.924862\n",
      "Epoch: 51/55 \tTraining Loss: 1.893407 \tValidation Loss: 1.948250\n",
      "Epoch: 52/55 \tTraining Loss: 1.893858 \tValidation Loss: 1.925953\n",
      "Epoch: 53/55 \tTraining Loss: 1.877799 \tValidation Loss: 1.915025\n",
      "Epoch: 54/55 \tTraining Loss: 1.872840 \tValidation Loss: 1.915223\n",
      "Epoch: 55/55 \tTraining Loss: 1.875477 \tValidation Loss: 1.924663\n"
     ]
    }
   ],
   "source": [
    "train_losses,valid_losses,tr_acc,val_acc,best_epoch = train(epochs,train_loader,model,valid_loader,optimizer,criterion)"
   ]
  },
  {
   "cell_type": "code",
   "execution_count": 32,
   "id": "9b62a322-3c2a-453a-83c7-707d8f9f130f",
   "metadata": {},
   "outputs": [
    {
     "data": {
      "image/png": "[encoded data removed]",
      "text/plain": [
       "<Figure size 1440x864 with 2 Axes>"
      ]
     },
     "metadata": {
      "needs_background": "light"
     },
     "output_type": "display_data"
    }
   ],
   "source": [
    "import matplotlib.pyplot as plt\n",
    "x     = [i for i in range(1,epochs+1)]\n",
    "xi    = [i for i in range(0,epochs+5,5)]\n",
    "xi[0] = 1\n",
    "f, axis = plt.subplots(2,1)\n",
    "f.set_figwidth(20)\n",
    "f.set_figheight(12)\n",
    "plt.subplots_adjust(top=0.8, wspace=0.2,hspace=0.3)\n",
    "\n",
    "axis[0].plot(x,train_losses)\n",
    "axis[0].plot(x,valid_losses)\n",
    "axis[0].axvline(best_epoch, color='black')\n",
    "axis[0].set_xticks(xi)\n",
    "axis[0].set_xlabel(\"Epochs\",fontweight=\"bold\",color = 'Black', fontsize='15', horizontalalignment='center')\n",
    "axis[0].set_ylabel(\"Loss\",fontweight=\"bold\",color = 'Black', fontsize='15', horizontalalignment='center')\n",
    "axis[0].set_title(\"Losses (with Attention)\",fontweight='bold',color = 'Black', fontsize='15', horizontalalignment='center')\n",
    "axis[0].legend([\"Training Loss\",\"Valid Loss\",f\"Best Epoch= {best_epoch}\"])\n",
    "\n",
    "\n",
    "axis[1].plot(x,tr_acc)\n",
    "axis[1].plot(x,val_acc)\n",
    "axis[1].set_xticks(xi)\n",
    "axis[1].set_xlabel(\"Epochs\", fontweight='bold',color = 'Black', fontsize='15', horizontalalignment='center')\n",
    "axis[1].set_ylabel(\"Accuracy\",fontweight='bold',color = 'Black', fontsize='15', horizontalalignment='center')\n",
    "axis[1].set_title(\"Accuracies (with Attention)\",fontweight='bold',color = 'Black', fontsize='15', horizontalalignment='center')\n",
    "axis[1].legend([\"Training Accuracy\",\"Valid Accuracy\"]);"
   ]
  },
  {
   "cell_type": "markdown",
   "id": "d451cfb4-c60d-4dad-bfd8-75f2d64f28c4",
   "metadata": {},
   "source": [
    "### Training without Attention Layer"
   ]
  },
  {
   "cell_type": "code",
   "execution_count": 20,
   "id": "c1f49059-0f50-4109-9915-be4c571c76ee",
   "metadata": {},
   "outputs": [
    {
     "name": "stdout",
     "output_type": "stream",
     "text": [
      "GRU_RNN(\n",
      "  (gru): GRU(300, 32, num_layers=2, batch_first=True, dropout=6e-06)\n",
      "  (linear): Linear(in_features=32, out_features=15, bias=True)\n",
      "  (dropout): Dropout(p=0.3, inplace=False)\n",
      "  (func): Softmax(dim=-1)\n",
      ")\n"
     ]
    }
   ],
   "source": [
    "model     = GRU_RNN(input_dim, output_dim, hidden_dim, n_layers,att=False)\n",
    "optimizer = torch.optim.Adam(model.parameters(), lr=lr)\n",
    "criterion = nn.CrossEntropyLoss()\n",
    "print(model)"
   ]
  },
  {
   "cell_type": "code",
   "execution_count": 21,
   "id": "a46164b3-eeba-414b-a5d9-49b7f6561421",
   "metadata": {},
   "outputs": [
    {
     "name": "stdout",
     "output_type": "stream",
     "text": [
      "Validation loss decreased (inf --> 2.393660).  Saving model ...\n",
      "Validation loss decreased (2.393660 --> 2.349475).  Saving model ...\n",
      "Validation loss decreased (2.349475 --> 2.343988).  Saving model ...\n",
      "Epoch: 1/55 \tTraining Loss: 2.547561 \tValidation Loss: 2.420918\n",
      "Validation loss decreased (2.343988 --> 2.285839).  Saving model ...\n",
      "Validation loss decreased (2.285839 --> 2.205021).  Saving model ...\n",
      "Validation loss decreased (2.205021 --> 2.162819).  Saving model ...\n",
      "Validation loss decreased (2.162819 --> 2.143725).  Saving model ...\n",
      "Epoch: 2/55 \tTraining Loss: 2.314393 \tValidation Loss: 2.283260\n",
      "Validation loss decreased (2.143725 --> 2.143002).  Saving model ...\n",
      "Validation loss decreased (2.143002 --> 2.114893).  Saving model ...\n",
      "Validation loss decreased (2.114893 --> 2.087795).  Saving model ...\n",
      "Validation loss decreased (2.087795 --> 2.085649).  Saving model ...\n",
      "Epoch: 3/55 \tTraining Loss: 2.205447 \tValidation Loss: 2.231950\n",
      "Validation loss decreased (2.085649 --> 2.084089).  Saving model ...\n",
      "Validation loss decreased (2.084089 --> 2.011329).  Saving model ...\n",
      "Epoch: 4/55 \tTraining Loss: 2.151215 \tValidation Loss: 2.195237\n",
      "Epoch: 5/55 \tTraining Loss: 2.129234 \tValidation Loss: 2.165178\n",
      "Validation loss decreased (2.011329 --> 2.004776).  Saving model ...\n",
      "Epoch: 6/55 \tTraining Loss: 2.102778 \tValidation Loss: 2.158245\n",
      "Validation loss decreased (2.004776 --> 1.971976).  Saving model ...\n",
      "Epoch: 7/55 \tTraining Loss: 2.089170 \tValidation Loss: 2.148022\n",
      "Validation loss decreased (1.971976 --> 1.955443).  Saving model ...\n",
      "Epoch: 8/55 \tTraining Loss: 2.071291 \tValidation Loss: 2.149593\n",
      "Epoch: 9/55 \tTraining Loss: 2.072371 \tValidation Loss: 2.162316\n",
      "Epoch: 10/55 \tTraining Loss: 2.073714 \tValidation Loss: 2.142117\n",
      "Epoch: 11/55 \tTraining Loss: 2.057137 \tValidation Loss: 2.200862\n",
      "Epoch: 12/55 \tTraining Loss: 2.079176 \tValidation Loss: 2.141863\n",
      "Epoch: 13/55 \tTraining Loss: 2.050327 \tValidation Loss: 2.135885\n",
      "Epoch: 14/55 \tTraining Loss: 2.037013 \tValidation Loss: 2.133004\n",
      "Epoch: 15/55 \tTraining Loss: 2.035291 \tValidation Loss: 2.130901\n",
      "Epoch: 16/55 \tTraining Loss: 2.015747 \tValidation Loss: 2.113473\n",
      "Epoch: 17/55 \tTraining Loss: 2.021580 \tValidation Loss: 2.117173\n",
      "Epoch: 18/55 \tTraining Loss: 2.017030 \tValidation Loss: 2.105281\n",
      "Epoch: 19/55 \tTraining Loss: 2.005915 \tValidation Loss: 2.099708\n",
      "Epoch: 20/55 \tTraining Loss: 1.993390 \tValidation Loss: 2.094073\n",
      "Validation loss decreased (1.955443 --> 1.940374).  Saving model ...\n",
      "Epoch: 21/55 \tTraining Loss: 2.004613 \tValidation Loss: 2.086799\n",
      "Epoch: 22/55 \tTraining Loss: 1.998800 \tValidation Loss: 2.105437\n",
      "Epoch: 23/55 \tTraining Loss: 1.988821 \tValidation Loss: 2.089693\n",
      "Validation loss decreased (1.940374 --> 1.915072).  Saving model ...\n",
      "Epoch: 24/55 \tTraining Loss: 1.990459 \tValidation Loss: 2.071839\n",
      "Epoch: 25/55 \tTraining Loss: 1.984909 \tValidation Loss: 2.097346\n",
      "Epoch: 26/55 \tTraining Loss: 2.005873 \tValidation Loss: 2.079458\n",
      "Epoch: 27/55 \tTraining Loss: 1.994819 \tValidation Loss: 2.085391\n",
      "Epoch: 28/55 \tTraining Loss: 1.998658 \tValidation Loss: 2.117735\n",
      "Epoch: 29/55 \tTraining Loss: 2.009924 \tValidation Loss: 2.092815\n",
      "Epoch: 30/55 \tTraining Loss: 2.005395 \tValidation Loss: 2.080503\n",
      "Epoch: 31/55 \tTraining Loss: 2.005457 \tValidation Loss: 2.108812\n",
      "Epoch: 32/55 \tTraining Loss: 2.008765 \tValidation Loss: 2.111199\n",
      "Validation loss decreased (1.915072 --> 1.879524).  Saving model ...\n",
      "Epoch: 33/55 \tTraining Loss: 2.010760 \tValidation Loss: 2.088136\n",
      "Epoch: 34/55 \tTraining Loss: 2.000449 \tValidation Loss: 2.095184\n",
      "Epoch: 35/55 \tTraining Loss: 1.992878 \tValidation Loss: 2.071387\n",
      "Epoch: 36/55 \tTraining Loss: 1.982024 \tValidation Loss: 2.069904\n",
      "Epoch: 37/55 \tTraining Loss: 1.975181 \tValidation Loss: 2.077060\n",
      "Epoch: 38/55 \tTraining Loss: 1.992547 \tValidation Loss: 2.098154\n",
      "Epoch: 39/55 \tTraining Loss: 2.005320 \tValidation Loss: 2.084858\n",
      "Epoch: 40/55 \tTraining Loss: 2.002863 \tValidation Loss: 2.096193\n",
      "Epoch: 41/55 \tTraining Loss: 2.006129 \tValidation Loss: 2.095626\n",
      "Epoch: 42/55 \tTraining Loss: 1.999327 \tValidation Loss: 2.072743\n",
      "Epoch: 43/55 \tTraining Loss: 2.000198 \tValidation Loss: 2.074540\n",
      "Epoch: 44/55 \tTraining Loss: 1.984998 \tValidation Loss: 2.068282\n",
      "Epoch: 45/55 \tTraining Loss: 1.998816 \tValidation Loss: 2.067018\n",
      "Epoch: 46/55 \tTraining Loss: 1.981946 \tValidation Loss: 2.085722\n",
      "Epoch: 47/55 \tTraining Loss: 1.986812 \tValidation Loss: 2.084004\n",
      "Epoch: 48/55 \tTraining Loss: 1.974812 \tValidation Loss: 2.076586\n",
      "Epoch: 49/55 \tTraining Loss: 1.976456 \tValidation Loss: 2.065510\n",
      "Epoch: 50/55 \tTraining Loss: 1.965071 \tValidation Loss: 2.077965\n",
      "Epoch: 51/55 \tTraining Loss: 1.968333 \tValidation Loss: 2.067781\n",
      "Epoch: 52/55 \tTraining Loss: 1.980085 \tValidation Loss: 2.091760\n",
      "Epoch: 53/55 \tTraining Loss: 1.983839 \tValidation Loss: 2.074736\n",
      "Epoch: 54/55 \tTraining Loss: 1.988467 \tValidation Loss: 2.090234\n",
      "Epoch: 55/55 \tTraining Loss: 1.992952 \tValidation Loss: 2.111479\n"
     ]
    }
   ],
   "source": [
    "train_losses_1,valid_losses_1,tr_acc_1,val_acc_1,best_epoch_1= train(epochs,train_loader,model,valid_loader,optimizer,criterion,att=False)"
   ]
  },
  {
   "cell_type": "code",
   "execution_count": 22,
   "id": "b86bfb25-6861-4b0a-a662-b306660764f8",
   "metadata": {},
   "outputs": [
    {
     "data": {
      "image/png": "[encoded data removed]",
      "text/plain": [
       "<Figure size 1440x864 with 2 Axes>"
      ]
     },
     "metadata": {
      "needs_background": "light"
     },
     "output_type": "display_data"
    }
   ],
   "source": [
    "f, axis = plt.subplots(2,1)\n",
    "f.set_figwidth(20)\n",
    "f.set_figheight(12)\n",
    "plt.subplots_adjust(top=0.8, wspace=0.2,hspace=0.3)\n",
    "\n",
    "axis[0].plot(x,train_losses_1)\n",
    "axis[0].plot(x,valid_losses_1)\n",
    "axis[0].axvline(best_epoch, color='black')\n",
    "axis[0].set_xticks(xi)\n",
    "axis[0].set_xlabel(\"Epochs\",fontweight=\"bold\",color = 'Black', fontsize='15', horizontalalignment='center')\n",
    "axis[0].set_ylabel(\"Loss\",fontweight=\"bold\",color = 'Black', fontsize='15', horizontalalignment='center')\n",
    "axis[0].set_title(\"Losses (without Attention)\",fontweight='bold',color = 'Black', fontsize='15', horizontalalignment='center')\n",
    "axis[0].legend([\"Training Loss\",\"Valid Loss\",f\"Best Epoch= {best_epoch_1}\"])\n",
    "\n",
    "\n",
    "axis[1].plot(x,tr_acc_1)\n",
    "axis[1].plot(x,val_acc_1)\n",
    "axis[1].set_xticks(xi)\n",
    "axis[1].set_xlabel(\"Epochs\", fontweight='bold',color = 'Black', fontsize='15', horizontalalignment='center')\n",
    "axis[1].set_ylabel(\"Accuracies\",fontweight='bold',color = 'Black', fontsize='15', horizontalalignment='center')\n",
    "axis[1].set_title(\"Accuracy (without Attention)\",fontweight='bold',color = 'Black', fontsize='15', horizontalalignment='center')\n",
    "axis[1].legend([\"Training Accuracy\",\"Valid Accuracy\"]);"
   ]
  },
  {
   "cell_type": "markdown",
   "id": "ca13d955-6efa-41c1-af86-a269d3c19e65",
   "metadata": {
    "tags": []
   },
   "source": [
    "## Testing"
   ]
  },
  {
   "cell_type": "code",
   "execution_count": 23,
   "id": "274e26e7-26be-44fb-864a-29508d82fba9",
   "metadata": {},
   "outputs": [],
   "source": [
    "def test(test_loader,net):\n",
    "    net.to(device)\n",
    "    net.eval()\n",
    "    num_correct = 0\n",
    "    valid_acc = 0\n",
    "    h = net.init_hidden(batch_size)\n",
    "    prev_x = torch.zeros(batch_size,seq_length,hidden_dim).to(device)\n",
    "    nn.init.kaiming_uniform_(prev_x)\n",
    "    for inputs, labels in test_loader:\n",
    "        h = h.data\n",
    "        inputs, labels = inputs.to(device), labels.type(torch.LongTensor).to(device)\n",
    "        \n",
    "        output, h,prev_x = net(inputs, h,prev_x)\n",
    "\n",
    "        pred = torch.round(output.squeeze()) \n",
    "        top_value, top_index = torch.max(pred,1)\n",
    "        correct_tensor = top_index.eq(labels.float().view_as(top_index))\n",
    "        correct = np.squeeze(correct_tensor.to('cpu').numpy())\n",
    "        num_correct += np.sum(correct)\n",
    "    \n",
    "    test_acc = num_correct/((len(test_loader)-1)*batch_size)\n",
    "    print(\"Test accuracy: {:.3f} %\".format(test_acc*100))"
   ]
  },
  {
   "cell_type": "markdown",
   "id": "91f9273c-b2bc-4934-9e2b-0e0d9a74e0d7",
   "metadata": {},
   "source": [
    "### Accuracy with Attention Layer"
   ]
  },
  {
   "cell_type": "code",
   "execution_count": 33,
   "id": "e38fa47f-8036-4646-ad00-2e022d9df2a4",
   "metadata": {},
   "outputs": [
    {
     "data": {
      "text/plain": [
       "<All keys matched successfully>"
      ]
     },
     "execution_count": 33,
     "metadata": {},
     "output_type": "execute_result"
    }
   ],
   "source": [
    "model = GRU_RNN(input_dim, output_dim, hidden_dim, n_layers)\n",
    "model.load_state_dict(torch.load('RNN_GRU_Att.pt'))"
   ]
  },
  {
   "cell_type": "code",
   "execution_count": 34,
   "id": "cbd08da8-e8cf-4c73-8774-5493094a744b",
   "metadata": {},
   "outputs": [
    {
     "name": "stdout",
     "output_type": "stream",
     "text": [
      "Test accuracy: 91.270 %\n"
     ]
    }
   ],
   "source": [
    "test(test_loader,model)"
   ]
  },
  {
   "cell_type": "markdown",
   "id": "1d52f2a7-eb3e-4b5b-8450-2b105fc9ef0c",
   "metadata": {},
   "source": [
    "### Accuracy without Attention Layer"
   ]
  },
  {
   "cell_type": "code",
   "execution_count": 26,
   "id": "5e7ae841-f3ea-4c57-839c-a93409fea501",
   "metadata": {},
   "outputs": [
    {
     "data": {
      "text/plain": [
       "<All keys matched successfully>"
      ]
     },
     "execution_count": 26,
     "metadata": {},
     "output_type": "execute_result"
    }
   ],
   "source": [
    "model = GRU_RNN(input_dim, output_dim, hidden_dim, n_layers,att=False)\n",
    "model.load_state_dict(torch.load('RNN_GRU.pt'))"
   ]
  },
  {
   "cell_type": "code",
   "execution_count": 27,
   "id": "a8dd6562-1f7f-4278-9400-7c2de56a17e4",
   "metadata": {},
   "outputs": [
    {
     "name": "stdout",
     "output_type": "stream",
     "text": [
      "Test accuracy: 78.224 %\n"
     ]
    }
   ],
   "source": [
    "test(test_loader,model)"
   ]
  },
  {
   "cell_type": "markdown",
   "id": "ca5d8b39-306a-4c53-97ad-dade7a5f6080",
   "metadata": {
    "tags": []
   },
   "source": [
    "## Conclusion\n",
    "\n",
    "Adding an Attention Layer has increased the model accuracy as expected.\n",
    "The model furthur can be extended/improved by using other methods such as `transformers`"
   ]
  }
 ],
 "metadata": {
  "kernelspec": {
   "display_name": "Python 3",
   "language": "python",
   "name": "python3"
  },
  "language_info": {
   "codemirror_mode": {
    "name": "ipython",
    "version": 3
   },
   "file_extension": ".py",
   "mimetype": "text/x-python",
   "name": "python",
   "nbconvert_exporter": "python",
   "pygments_lexer": "ipython3",
   "version": "3.8.3"
  }
 },
 "nbformat": 4,
 "nbformat_minor": 5
}
