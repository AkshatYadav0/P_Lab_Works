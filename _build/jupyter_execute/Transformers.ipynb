{
 "cells": [
  {
   "cell_type": "markdown",
   "id": "c6ae04f4-1503-4d65-b9ad-e1b5d35773f7",
   "metadata": {},
   "source": [
    "# Transformers"
   ]
  },
  {
   "cell_type": "markdown",
   "id": "d94e8db0-61e2-4b10-96f4-8743fc973883",
   "metadata": {},
   "source": [
    "## Overview"
   ]
  },
  {
   "cell_type": "markdown",
   "id": "634f1db4-dc34-415c-a202-71d2e17aa679",
   "metadata": {},
   "source": [
    "**This notebook implements Transformer model for HCP (movie watching) data**\n",
    "\n",
    "Transformers were first present by Vaswani, et al. in their paper [Attention Is All You Need](https://arxiv.org/abs/1706.03762).\n"
   ]
  },
  {
   "cell_type": "markdown",
   "id": "37467e65-83e0-4eee-9a36-5266e7e86103",
   "metadata": {},
   "source": [
    "---\n",
    "## Data Organization\n",
    "Same as in the [gru + attention](https://akshatyadav0.github.io/P_Lab_Works/attention_2.html) notebook"
   ]
  },
  {
   "cell_type": "code",
   "execution_count": 1,
   "id": "3a162cda-348e-4399-9e1f-d36c765212c7",
   "metadata": {},
   "outputs": [],
   "source": [
    "import torch\n",
    "import pickle\n",
    "import numpy as np\n",
    "import torch.nn as nn"
   ]
  },
  {
   "cell_type": "code",
   "execution_count": 2,
   "id": "3455f53d-e924-4eed-9ad1-b5a426ee5e3e",
   "metadata": {},
   "outputs": [
    {
     "name": "stdout",
     "output_type": "stream",
     "text": [
      "dict_keys(['testretest', 'twomen', 'bridgeville', 'pockets', 'overcome', 'inception', 'socialnet', 'oceans', 'flower', 'hotel', 'garden', 'dreary', 'homealone', 'brokovich', 'starwars'])\n"
     ]
    }
   ],
   "source": [
    "with open('Data/HCP_movie_watching.pkl','rb') as f:\n",
    "    TS = pickle.load(f)\n",
    "print(TS.keys())"
   ]
  },
  {
   "cell_type": "code",
   "execution_count": 3,
   "id": "be7054ae-cb68-4cb1-a81f-21520e50c026",
   "metadata": {},
   "outputs": [
    {
     "name": "stdout",
     "output_type": "stream",
     "text": [
      "testretest (4, 176, 84, 300)\n",
      "twomen (176, 245, 300)\n",
      "bridgeville (176, 222, 300)\n",
      "pockets (176, 189, 300)\n",
      "overcome (176, 65, 300)\n",
      "inception (176, 227, 300)\n",
      "socialnet (176, 260, 300)\n",
      "oceans (176, 250, 300)\n",
      "flower (176, 181, 300)\n",
      "hotel (176, 186, 300)\n",
      "garden (176, 205, 300)\n",
      "dreary (176, 143, 300)\n",
      "homealone (176, 233, 300)\n",
      "brokovich (176, 231, 300)\n",
      "starwars (176, 256, 300)\n"
     ]
    }
   ],
   "source": [
    "rel = {}\n",
    "l = 0\n",
    "for movie_name, ts in TS.items():\n",
    "    rel[movie_name] = l\n",
    "    l += 1\n",
    "    print(movie_name, ts.shape)"
   ]
  },
  {
   "cell_type": "code",
   "execution_count": 4,
   "id": "6a345eef-cfb4-4295-9e0f-52bfc8b34f6b",
   "metadata": {},
   "outputs": [
    {
     "name": "stdout",
     "output_type": "stream",
     "text": [
      "176\n",
      "176\n",
      "176\n",
      "176\n",
      "176\n",
      "176\n",
      "176\n",
      "176\n",
      "176\n",
      "176\n",
      "176\n",
      "176\n",
      "176\n",
      "176\n",
      "176\n",
      "176\n",
      "176\n",
      "176\n"
     ]
    }
   ],
   "source": [
    "train_feature = []\n",
    "test_feature  = []\n",
    "train_target  = []\n",
    "test_target   = []\n",
    "seq_length    = 198\n",
    "\n",
    "for movie_name, ts in TS.items():\n",
    "    pep = 0\n",
    "    if movie_name != \"testretest\":\n",
    "        for i in ts:\n",
    "            pep += 1\n",
    "            if (pep <= 100):\n",
    "                if i.shape[0]>seq_length:\n",
    "                    k = i[:seq_length][:]\n",
    "                    train_feature.append(k)\n",
    "                    train_target.append(rel[movie_name])\n",
    "                    \n",
    "                    k = i[i.shape[0]-seq_length:][:]\n",
    "                    train_feature.append(k)\n",
    "                    train_target.append(rel[movie_name])\n",
    "                \n",
    "                elif i.shape[0]<seq_length:\n",
    "                    k = [[0]*300]*seq_length\n",
    "                    k[seq_length-i.shape[0]:] = i\n",
    "                    train_feature.append(k)\n",
    "                    train_target.append(rel[movie_name])\n",
    "                else:\n",
    "                    train_feature.append(i)\n",
    "                    train_target.append(rel[movie_name])\n",
    "\n",
    "            else:\n",
    "                if i.shape[0]>seq_length:\n",
    "                    k = i[:seq_length][:]\n",
    "                    test_feature.append(k)\n",
    "                    test_target.append(rel[movie_name])\n",
    "                   \n",
    "                    k = i[i.shape[0]-seq_length:][:]\n",
    "                    test_feature.append(k)\n",
    "                    test_target.append(rel[movie_name])\n",
    "                \n",
    "                elif i.shape[0]<seq_length:\n",
    "                    k = [[0]*300]*seq_length\n",
    "                    k[seq_length-i.shape[0]:] = i\n",
    "                    test_feature.append(k)\n",
    "                    test_target.append(rel[movie_name])\n",
    "                else:\n",
    "                    test_feature.append(i)\n",
    "                    test_target.append(rel[movie_name])\n",
    "        print(pep)\n",
    "    else:\n",
    "        for jj in ts:\n",
    "            pep = 0\n",
    "            for i in jj:\n",
    "                pep += 1\n",
    "                if (pep <= 101):\n",
    "                    if i.shape[0]>seq_length:\n",
    "                        k = i[:seq_length][:]\n",
    "                        train_feature.append(k)\n",
    "                        train_target.append(rel[movie_name])\n",
    "\n",
    "                        k = i[i.shape[0]-seq_length:][:]\n",
    "                        train_feature.append(k)\n",
    "                        train_target.append(rel[movie_name])\n",
    "\n",
    "                    elif i.shape[0]<seq_length:\n",
    "                        k = [[0]*300]*seq_length\n",
    "                        k[seq_length-i.shape[0]:] = i\n",
    "                        train_feature.append(k)\n",
    "                        train_target.append(rel[movie_name])\n",
    "                    else:\n",
    "                        train_feature.append(i)\n",
    "                        train_target.append(rel[movie_name])\n",
    "\n",
    "                else:\n",
    "                    if i.shape[0]>seq_length:\n",
    "                        k = i[:seq_length][:]\n",
    "                        test_feature.append(k)\n",
    "                        test_target.append(rel[movie_name])\n",
    "\n",
    "                        k = i[i.shape[0]-seq_length:][:]\n",
    "                        test_feature.append(k)\n",
    "                        test_target.append(rel[movie_name])\n",
    "\n",
    "                    elif i.shape[0]<seq_length:\n",
    "                        k = [[0]*300]*seq_length\n",
    "                        k[seq_length-i.shape[0]:] = i\n",
    "                        test_feature.append(k)\n",
    "                        test_target.append(rel[movie_name])\n",
    "                    else:\n",
    "                        test_feature.append(i)\n",
    "                        test_target.append(rel[movie_name])\n",
    "            print(pep)"
   ]
  },
  {
   "cell_type": "code",
   "execution_count": 5,
   "id": "df4fe2a7-3f51-4b9c-ab91-4dcc6e64ecc9",
   "metadata": {},
   "outputs": [],
   "source": [
    "from torch.utils.data import TensorDataset, DataLoader\n",
    "\n",
    "train_data = TensorDataset(torch.from_numpy(np.array(train_feature)).float(),torch.from_numpy(np.array(train_target)).float())\n",
    "test_data  = TensorDataset(torch.from_numpy(np.array(test_feature)).float(),torch.from_numpy(np.array(test_target)).float())"
   ]
  },
  {
   "cell_type": "code",
   "execution_count": 6,
   "id": "2d1b10b1-fb03-4343-b2cd-f9a311358a18",
   "metadata": {},
   "outputs": [],
   "source": [
    "from torch.utils.data.sampler import SubsetRandomSampler\n",
    "\n",
    "batch_size = 32\n",
    "valid_data  = 0.25\n",
    "t_train     = len(train_data)\n",
    "data_no     = list(range(t_train))\n",
    "np.random.shuffle(data_no)\n",
    "split_no    = int(np.ceil(valid_data*t_train))\n",
    "train,valid = data_no[split_no:],data_no[:split_no]\n",
    "\n",
    "train_sampler = SubsetRandomSampler(train)\n",
    "valid_sampler = SubsetRandomSampler(valid)\n",
    "\n",
    "train_loader  = DataLoader(train_data,batch_size=batch_size,sampler=train_sampler,drop_last=True)\n",
    "valid_loader  = DataLoader(train_data,sampler=valid_sampler,batch_size=batch_size,drop_last=True)\n",
    "test_loader   = DataLoader(test_data, batch_size=batch_size,shuffle = True)"
   ]
  },
  {
   "cell_type": "code",
   "execution_count": 7,
   "id": "9e805376-253a-4224-b0b0-6ea50fc76519",
   "metadata": {},
   "outputs": [
    {
     "data": {
      "text/plain": [
       "device(type='cuda')"
      ]
     },
     "execution_count": 7,
     "metadata": {},
     "output_type": "execute_result"
    }
   ],
   "source": [
    "is_cuda = torch.cuda.is_available()\n",
    "\n",
    "if is_cuda:\n",
    "    device = torch.device(\"cuda\")\n",
    "else:\n",
    "    device = torch.device(\"cpu\")\n",
    "device"
   ]
  },
  {
   "cell_type": "markdown",
   "id": "e0fedb8b-8c4f-45c3-9574-60843645e349",
   "metadata": {},
   "source": [
    "## Modelling"
   ]
  },
  {
   "cell_type": "markdown",
   "id": "abe38a3b-8d9b-4a56-a2c8-3402d384185e",
   "metadata": {},
   "source": [
    "### Positional Encodings\n",
    "<img src = \"po_enc.png\">"
   ]
  },
  {
   "cell_type": "code",
   "execution_count": 8,
   "id": "840bd0da-8471-4435-b99e-df68c10923e0",
   "metadata": {},
   "outputs": [],
   "source": [
    "class PositionalEncoding(nn.Module):\n",
    "    def __init__(self, d_model, seq_len):\n",
    "        \"\"\"\n",
    "        :param d_model: dimension of model\n",
    "        :param max_len: max sequence length\n",
    "        :param device: hardware device setting\n",
    "        \"\"\"\n",
    "        super(PositionalEncoding, self).__init__()\n",
    "\n",
    "        # same size with input matrix (for adding with input matrix)\n",
    "        \n",
    "        self.encoding = torch.zeros(seq_len, d_model, device=device)\n",
    "        self.encoding.requires_grad = False\n",
    "\n",
    "        pos = torch.arange(0, seq_len, device=device)\n",
    "        pos = pos.float().unsqueeze(dim=1)\n",
    "        # 1D => 2D unsqueeze to represent position\n",
    "\n",
    "        _2i = torch.arange(0, d_model, step=2, device=device).float()\n",
    "        # 'i' means index of d_model (e.g. embedding size = 50, 'i' = [0,50])\n",
    "        # \"step=2\" means 'i' multiplied with two (same with 2 * i)\n",
    "\n",
    "        self.encoding[:, 0::2] = torch.sin(pos / (10000 ** (_2i / d_model)))\n",
    "        self.encoding[:, 1::2] = torch.cos(pos / (10000 ** (_2i / d_model)))\n",
    "        # compute positional encoding to consider positional information\n",
    "\n",
    "    def forward(self, x):\n",
    "        # self.encoding\n",
    "        # [max_len = 512, d_model = 512]\n",
    "\n",
    "        batch_size, seq_len = x.size()\n",
    "        # [batch_size = 128, seq_len = 30]\n",
    "\n",
    "        return self.encoding[:seq_len, :]\n",
    "        # [seq_len = 30, d_model = 512]\n",
    "        # it will add with tok_emb : [128, 30, 512]         "
   ]
  },
  {
   "cell_type": "markdown",
   "id": "a4b1f852-4536-4746-984b-5f314e8ce265",
   "metadata": {},
   "source": [
    "### Self Attention\n",
    "<img src = \"scale_dot_product_attention.jpg\">"
   ]
  },
  {
   "cell_type": "code",
   "execution_count": 9,
   "id": "2e9ab1ab-c50d-4d27-acb7-cda03ea7c640",
   "metadata": {},
   "outputs": [],
   "source": [
    "class Attention(nn.Module):\n",
    "    \"\"\"\n",
    "    q : current sequence\n",
    "    k : every sequence to check relationship with Qeury\n",
    "    v : every seq same with Key\n",
    "    \"\"\"\n",
    "\n",
    "    def __init__(self):\n",
    "        super(Attention, self).__init__()\n",
    "        \n",
    "        self.softmax = nn.Softmax(dim=-1)\n",
    "\n",
    "    def forward(self, q, k, v):     # [batch_size, head, length, d_tensor]\n",
    "        \n",
    "        batch_size, head, length, d_tensor = k.size()\n",
    "\n",
    "        # 1. dot product Query with Key^T to compute similarity\n",
    "        \n",
    "        k_t = k.transpose(2, 3)\n",
    "        score = (q @ k_t) / np.sqrt(d_tensor)  # scaled dot product\n",
    "\n",
    "        # 2. Masking (opt)\n",
    "        \n",
    "        # 3. Softmax\n",
    "        score = self.softmax(score)\n",
    "\n",
    "        # 4. multiply with Value\n",
    "        v = score @ v\n",
    "\n",
    "        return v, score"
   ]
  },
  {
   "cell_type": "markdown",
   "id": "d0a6e8e5-2a80-441f-81e3-1e1ef5ebdddb",
   "metadata": {},
   "source": [
    "### Multi Head Attention\n",
    "<img src = \"multi_head_attention.jpg\">"
   ]
  },
  {
   "cell_type": "code",
   "execution_count": 10,
   "id": "f1276796-0edf-4622-b0c9-994ee8d93a13",
   "metadata": {},
   "outputs": [],
   "source": [
    "class MultiHeadAttention(nn.Module):\n",
    "\n",
    "    def __init__(self, d_model, n_head):\n",
    "        super(MultiHeadAttention, self).__init__()\n",
    "        self.n_head = n_head\n",
    "        self.attention = Attention()\n",
    "        self.w_q = nn.Linear(d_model, d_model)\n",
    "        self.w_k = nn.Linear(d_model, d_model)\n",
    "        self.w_v = nn.Linear(d_model, d_model)\n",
    "        self.w_concat = nn.Linear(d_model, d_model)\n",
    "\n",
    "    def forward(self, q, k, v):\n",
    "        \n",
    "        # 1. dot product with weight matrices\n",
    "        q, k, v = self.w_q(q), self.w_k(k), self.w_v(v)\n",
    "\n",
    "        # 2. split tensor by number of heads\n",
    "        q, k, v = self.split(q), self.split(k), self.split(v)\n",
    "\n",
    "        # 3. do scale dot product to compute similarity\n",
    "        out, attention = self.attention(q, k, v)#, mask=mask)\n",
    "        \n",
    "        # 4. concat and pass to linear layer\n",
    "        out = self.concat(out)\n",
    "        out = self.w_concat(out)\n",
    "\n",
    "        # visualize attention map => may implement visualization\n",
    "        \n",
    "        return out\n",
    "\n",
    "    def split(self, tensor):\n",
    "        \"\"\"\n",
    "        split tensor by number of head\n",
    "\n",
    "        :param tensor: [batch_size, length, d_model]\n",
    "        :return: [batch_size, head, length, d_tensor]\n",
    "        \"\"\"\n",
    "        batch_size, length, d_model = tensor.size()\n",
    "\n",
    "        d_tensor = d_model // self.n_head\n",
    "        tensor = tensor.view(batch_size, length, self.n_head, d_tensor).transpose(1, 2)\n",
    "\n",
    "        return tensor\n",
    "\n",
    "    def concat(self, tensor):\n",
    "        \"\"\"\n",
    "        :param tensor: [batch_size, head, length, d_tensor]\n",
    "        :return: [batch_size, length, d_model]\n",
    "        \"\"\"\n",
    "        batch_size, head, length, d_tensor = tensor.size()\n",
    "        d_model = head * d_tensor\n",
    "\n",
    "        tensor = tensor.transpose(1, 2).contiguous().view(batch_size, length, d_model)\n",
    "        return tensor"
   ]
  },
  {
   "cell_type": "markdown",
   "id": "f1cdfb4d-4afe-47fa-8574-35576cfcc556",
   "metadata": {},
   "source": [
    "### Feed Forward"
   ]
  },
  {
   "cell_type": "code",
   "execution_count": 49,
   "id": "2868e6e2-207c-496b-adf0-5bc642ffe930",
   "metadata": {},
   "outputs": [],
   "source": [
    "class FeedForward(nn.Module):\n",
    "    def __init__(self, d_model, feed_fwd, dropout = 0.1):\n",
    "        super().__init__() \n",
    "        \n",
    "        self.l1 = nn.Linear(d_model, feed_fwd)\n",
    "        self.l2 = nn.Linear(feed_fwd, d_model)\n",
    "        \n",
    "        self.dropout = nn.Dropout(p=dropout)\n",
    "        \n",
    "        self.relu = nn.ReLU()\n",
    "    def forward(self, x):\n",
    "        \n",
    "        x = self.dropout(self.relu(self.l1(x)))\n",
    "        x = self.l2(x)\n",
    "        return x"
   ]
  },
  {
   "cell_type": "markdown",
   "id": "3ef47a30-46eb-463b-9c93-cf20719844c9",
   "metadata": {},
   "source": [
    "### Transformer Block"
   ]
  },
  {
   "cell_type": "code",
   "execution_count": 55,
   "id": "3b05133f-e5cd-4525-b91b-f558ae7c7023",
   "metadata": {},
   "outputs": [],
   "source": [
    "class TransformerBlock(nn.Module):\n",
    "    \n",
    "    def __init__(self, d_model,feed_fwd ,n_heads,drop_prob):\n",
    "        super(TransformerBlock, self).__init__()\n",
    "        \n",
    "        \"\"\"\n",
    "        Args:\n",
    "           embed_dim: dimension of the embedding\n",
    "           n_heads: number of attention heads\n",
    "        \n",
    "        \"\"\"\n",
    "        \n",
    "        self.attention = MultiHeadAttention(d_model=d_model, n_head=n_head)\n",
    "        \n",
    "        self.norm1 = nn.LayerNorm(d_model) \n",
    "        self.norm2 = nn.LayerNorm(d_model)\n",
    "        \n",
    "        self.feed_fwd = FeedForward(d_model=d_model, feed_fwd=feed_fwd, dropout=drop_prob)\n",
    "\n",
    "        self.dropout1 = nn.Dropout(p=drop_prob)\n",
    "        self.dropout2 = nn.Dropout(p=drop_prob)\n",
    "\n",
    "    def forward(self,x):#key,query,value):\n",
    "        \n",
    "        \"\"\"\n",
    "        Args:\n",
    "           key: key vector\n",
    "           query: query vector\n",
    "           value: value vector\n",
    "        \"\"\"\n",
    "        \n",
    "        # 1. compute self attention\n",
    "        _x = x\n",
    "        #print(x.shape)\n",
    "        x = self.attention(q=x, k=x, v=x)\n",
    "        \n",
    "        # 2. add and norm\n",
    "        x = self.norm1(x + _x)\n",
    "        x = self.dropout1(x)\n",
    "        \n",
    "        # 3. feed forward network\n",
    "        _x = x\n",
    "        x = self.feed_fwd(x)\n",
    "      \n",
    "        # 4. add and norm\n",
    "        x = self.norm2(x + _x)\n",
    "        x = self.dropout2(x)\n",
    "        \n",
    "        return x"
   ]
  },
  {
   "cell_type": "markdown",
   "id": "208b1c43-47ec-4cc4-a52d-d45489516e05",
   "metadata": {},
   "source": [
    "### Complied Model"
   ]
  },
  {
   "cell_type": "code",
   "execution_count": 56,
   "id": "202fe5b1-cfb3-43c5-84e3-275869b4fa7b",
   "metadata": {},
   "outputs": [],
   "source": [
    "class Transformer_Model(nn.Module):\n",
    "\n",
    "    def __init__(self, d_model, feed_fwd, out_dim, n_layers, n_head, drop_prob):\n",
    "        super(Transformer_Model, self).__init__()\n",
    "\n",
    "        self.layers = nn.ModuleList([TransformerBlock(d_model, feed_fwd, n_head, drop_prob) for i in range(n_layers)])\n",
    "        self.linear_out = nn.Linear(d_model,out_dim)\n",
    "        \n",
    "    def forward(self, x):\n",
    "        for layer in self.layers:\n",
    "            x = layer(x)#,x,x)\n",
    "\n",
    "        x = self.linear_out(x)\n",
    "    \n",
    "        return x"
   ]
  },
  {
   "cell_type": "markdown",
   "id": "ff5e5c50-670c-41f9-a0cd-7c3bc75fa448",
   "metadata": {},
   "source": [
    "## Training"
   ]
  },
  {
   "cell_type": "code",
   "execution_count": 70,
   "id": "51b69d67-6fac-4a44-aca7-7ef0ff465424",
   "metadata": {},
   "outputs": [],
   "source": [
    "def train(epochs,train_loader,net,valid_loader,optimzer,criterion,att=True):\n",
    "    val_acc = []\n",
    "    tr_acc = []\n",
    "    \n",
    "    clip = 3 # gradient clipping\n",
    "\n",
    "    net.to(device)\n",
    "    net.train()\n",
    "    \n",
    "    valid_loss_min = np.Inf \n",
    "    \n",
    "    valid_losses = []\n",
    "    train_losses = []\n",
    "    \n",
    "    for e in range(epochs):\n",
    "        num_correct = 0\n",
    "        train_loss = []\n",
    "        valid_loss = []\n",
    "        train_acc  = 0.0\n",
    "        valid_acc  = 0.0 \n",
    "        counter = 0\n",
    "        for inputs, labels in train_loader:\n",
    "            \n",
    "            inputs, labels = inputs.to(device), labels.type(torch.LongTensor).to(device)\n",
    "            net.zero_grad()\n",
    "\n",
    "            output = net(inputs)[:, -1, :]\n",
    "            #print(output[:, -1, :].shape)\n",
    "            pred = torch.round(output.squeeze()) \n",
    "            \n",
    "            top_value, top_index = torch.max(pred,1)\n",
    "            \n",
    "            correct_tensor = top_index.eq(labels.float().view_as(top_index))\n",
    "            correct = np.squeeze(correct_tensor.to('cpu').numpy())\n",
    "            num_correct += np.sum(correct)\n",
    "\n",
    "\n",
    "            loss = criterion(output, labels)\n",
    "            loss.backward()\n",
    "            nn.utils.clip_grad_norm_(net.parameters(), clip)\n",
    "            optimizer.step()\n",
    "\n",
    "            train_loss.append(loss.item())\n",
    "        tr_acc.append(num_correct/((len(train_loader)-1)*batch_size))\n",
    "\n",
    "        acc = 0.0\n",
    "        val_losses = []\n",
    "        net.eval()\n",
    "        num_correct = 0\n",
    "        v_c = 0\n",
    "        \n",
    "        for inputs, labels in valid_loader:\n",
    "            inputs, labels = inputs.to(device), labels.type(torch.LongTensor).to(device)\n",
    "\n",
    "            output= net(inputs)[:, -1, :]\n",
    "            \n",
    "            pred = torch.round(output.squeeze()) \n",
    "            top_value, top_index = torch.max(pred,1)\n",
    "            correct_tensor = top_index.eq(labels.float().view_as(top_index))\n",
    "            correct = np.squeeze(correct_tensor.to('cpu').numpy())\n",
    "            num_correct += np.sum(correct)\n",
    "\n",
    "            val_loss = criterion(output.squeeze(),labels)\n",
    "            val_losses.append(val_loss.item())\n",
    "            \n",
    "            if val_loss.item() <= valid_loss_min:\n",
    "                print('Validation loss decreased ({:.6f} --> {:.6f}).  Saving model ...'.format(valid_loss_min, val_loss.item()))\n",
    "                best_epoch = e\n",
    "                if att:\n",
    "                    torch.save(net.state_dict(), 'Trns_Multi_Att.pt')\n",
    "                else:\n",
    "                    torch.save(net.state_dict(), 'Trns_Single_Att.pt')\n",
    "                valid_loss_min = val_loss.item()\n",
    "\n",
    "        net.train()\n",
    "        valid_losses.append(np.mean(val_losses))\n",
    "        train_losses.append(np.mean(train_loss))\n",
    "        val_acc.append(num_correct/(len(valid_loader)*batch_size))\n",
    "        print('Epoch: {}/{} \\tTraining Loss: {:.6f} \\tValidation Loss: {:.6f}'.format(e+1,epochs,np.mean(train_loss),np.mean(val_losses)))\n",
    "    \n",
    "    return train_losses,valid_losses,tr_acc,val_acc,best_epoch"
   ]
  },
  {
   "cell_type": "code",
   "execution_count": 68,
   "id": "5b024c14-7159-40cd-8653-78d304cddf4f",
   "metadata": {},
   "outputs": [],
   "source": [
    "epochs     = 100\n",
    "d_model    = 300\n",
    "feed_fwd   = 150\n",
    "output_dim = 15\n",
    "n_head     = 4\n",
    "n_layers   = 2\n",
    "drop_prob  = 0.0006\n",
    "lr         = 0.001"
   ]
  },
  {
   "cell_type": "markdown",
   "id": "e3758f51-e2cc-45c3-8685-364d82685589",
   "metadata": {},
   "source": [
    "### Multi-Head Attention (No PoE)"
   ]
  },
  {
   "cell_type": "code",
   "execution_count": 57,
   "id": "2c51b387-4bb4-451b-98ed-60135633b98a",
   "metadata": {},
   "outputs": [
    {
     "data": {
      "text/plain": [
       "Transformer_Model(\n",
       "  (layers): ModuleList(\n",
       "    (0): TransformerBlock(\n",
       "      (attention): MultiHeadAttention(\n",
       "        (attention): Attention(\n",
       "          (softmax): Softmax(dim=-1)\n",
       "        )\n",
       "        (w_q): Linear(in_features=300, out_features=300, bias=True)\n",
       "        (w_k): Linear(in_features=300, out_features=300, bias=True)\n",
       "        (w_v): Linear(in_features=300, out_features=300, bias=True)\n",
       "        (w_concat): Linear(in_features=300, out_features=300, bias=True)\n",
       "      )\n",
       "      (norm1): LayerNorm((300,), eps=1e-05, elementwise_affine=True)\n",
       "      (norm2): LayerNorm((300,), eps=1e-05, elementwise_affine=True)\n",
       "      (feed_fwd): FeedForward(\n",
       "        (l1): Linear(in_features=300, out_features=150, bias=True)\n",
       "        (l2): Linear(in_features=150, out_features=300, bias=True)\n",
       "        (dropout): Dropout(p=0.0006, inplace=False)\n",
       "        (relu): ReLU()\n",
       "      )\n",
       "      (dropout1): Dropout(p=0.0006, inplace=False)\n",
       "      (dropout2): Dropout(p=0.0006, inplace=False)\n",
       "    )\n",
       "    (1): TransformerBlock(\n",
       "      (attention): MultiHeadAttention(\n",
       "        (attention): Attention(\n",
       "          (softmax): Softmax(dim=-1)\n",
       "        )\n",
       "        (w_q): Linear(in_features=300, out_features=300, bias=True)\n",
       "        (w_k): Linear(in_features=300, out_features=300, bias=True)\n",
       "        (w_v): Linear(in_features=300, out_features=300, bias=True)\n",
       "        (w_concat): Linear(in_features=300, out_features=300, bias=True)\n",
       "      )\n",
       "      (norm1): LayerNorm((300,), eps=1e-05, elementwise_affine=True)\n",
       "      (norm2): LayerNorm((300,), eps=1e-05, elementwise_affine=True)\n",
       "      (feed_fwd): FeedForward(\n",
       "        (l1): Linear(in_features=300, out_features=150, bias=True)\n",
       "        (l2): Linear(in_features=150, out_features=300, bias=True)\n",
       "        (dropout): Dropout(p=0.0006, inplace=False)\n",
       "        (relu): ReLU()\n",
       "      )\n",
       "      (dropout1): Dropout(p=0.0006, inplace=False)\n",
       "      (dropout2): Dropout(p=0.0006, inplace=False)\n",
       "    )\n",
       "  )\n",
       "  (linear_out): Linear(in_features=300, out_features=15, bias=True)\n",
       ")"
      ]
     },
     "execution_count": 57,
     "metadata": {},
     "output_type": "execute_result"
    }
   ],
   "source": [
    "model = Transformer_Model(d_model, feed_fwd, output_dim, n_layers,n_head, drop_prob)\n",
    "optimizer = torch.optim.Adam(model.parameters(), lr=lr)\n",
    "criterion = nn.CrossEntropyLoss()\n",
    "model"
   ]
  },
  {
   "cell_type": "code",
   "execution_count": 58,
   "id": "7065a649-3b5d-4c23-ab9e-4676cdc7b66a",
   "metadata": {},
   "outputs": [
    {
     "name": "stdout",
     "output_type": "stream",
     "text": [
      "Validation loss decreased (inf --> 0.419096).  Saving model ...\n",
      "Validation loss decreased (0.419096 --> 0.348300).  Saving model ...\n",
      "Validation loss decreased (0.348300 --> 0.271155).  Saving model ...\n",
      "Epoch: 1/100 \tTraining Loss: 1.167421 \tValidation Loss: 0.474327\n",
      "Validation loss decreased (0.271155 --> 0.249879).  Saving model ...\n",
      "Validation loss decreased (0.249879 --> 0.220638).  Saving model ...\n",
      "Validation loss decreased (0.220638 --> 0.088878).  Saving model ...\n",
      "Epoch: 2/100 \tTraining Loss: 0.273253 \tValidation Loss: 0.288038\n",
      "Validation loss decreased (0.088878 --> 0.074936).  Saving model ...\n",
      "Validation loss decreased (0.074936 --> 0.063233).  Saving model ...\n",
      "Validation loss decreased (0.063233 --> 0.023823).  Saving model ...\n",
      "Epoch: 3/100 \tTraining Loss: 0.115287 \tValidation Loss: 0.280523\n",
      "Validation loss decreased (0.023823 --> 0.018158).  Saving model ...\n",
      "Validation loss decreased (0.018158 --> 0.014297).  Saving model ...\n",
      "Epoch: 4/100 \tTraining Loss: 0.053292 \tValidation Loss: 0.190914\n",
      "Validation loss decreased (0.014297 --> 0.005076).  Saving model ...\n",
      "Epoch: 5/100 \tTraining Loss: 0.026572 \tValidation Loss: 0.153555\n",
      "Epoch: 6/100 \tTraining Loss: 0.038455 \tValidation Loss: 0.236173\n",
      "Epoch: 7/100 \tTraining Loss: 0.080317 \tValidation Loss: 0.298078\n",
      "Epoch: 8/100 \tTraining Loss: 0.126595 \tValidation Loss: 0.474623\n",
      "Epoch: 9/100 \tTraining Loss: 0.147446 \tValidation Loss: 0.427347\n",
      "Epoch: 10/100 \tTraining Loss: 0.072225 \tValidation Loss: 0.178902\n",
      "Epoch: 11/100 \tTraining Loss: 0.072755 \tValidation Loss: 0.241793\n",
      "Epoch: 12/100 \tTraining Loss: 0.150082 \tValidation Loss: 0.368517\n",
      "Epoch: 13/100 \tTraining Loss: 0.134242 \tValidation Loss: 0.285465\n",
      "Validation loss decreased (0.005076 --> 0.004727).  Saving model ...\n",
      "Epoch: 14/100 \tTraining Loss: 0.068325 \tValidation Loss: 0.225814\n",
      "Epoch: 15/100 \tTraining Loss: 0.084564 \tValidation Loss: 0.266099\n",
      "Epoch: 16/100 \tTraining Loss: 0.063605 \tValidation Loss: 0.153977\n",
      "Validation loss decreased (0.004727 --> 0.003486).  Saving model ...\n",
      "Epoch: 17/100 \tTraining Loss: 0.017670 \tValidation Loss: 0.108851\n",
      "Validation loss decreased (0.003486 --> 0.002315).  Saving model ...\n",
      "Epoch: 18/100 \tTraining Loss: 0.018405 \tValidation Loss: 0.192080\n",
      "Epoch: 19/100 \tTraining Loss: 0.035845 \tValidation Loss: 0.206876\n",
      "Epoch: 20/100 \tTraining Loss: 0.069308 \tValidation Loss: 0.223056\n",
      "Epoch: 21/100 \tTraining Loss: 0.174280 \tValidation Loss: 0.240203\n",
      "Epoch: 22/100 \tTraining Loss: 0.156562 \tValidation Loss: 0.183388\n",
      "Epoch: 23/100 \tTraining Loss: 0.138357 \tValidation Loss: 0.279883\n",
      "Epoch: 24/100 \tTraining Loss: 0.115099 \tValidation Loss: 0.228573\n",
      "Epoch: 25/100 \tTraining Loss: 0.097851 \tValidation Loss: 0.225635\n",
      "Epoch: 26/100 \tTraining Loss: 0.080767 \tValidation Loss: 0.365155\n",
      "Epoch: 27/100 \tTraining Loss: 0.086111 \tValidation Loss: 0.372302\n",
      "Epoch: 28/100 \tTraining Loss: 0.110598 \tValidation Loss: 0.242463\n",
      "Epoch: 29/100 \tTraining Loss: 0.124497 \tValidation Loss: 0.168974\n",
      "Epoch: 30/100 \tTraining Loss: 0.076403 \tValidation Loss: 0.227167\n",
      "Epoch: 31/100 \tTraining Loss: 0.070303 \tValidation Loss: 0.169906\n",
      "Epoch: 32/100 \tTraining Loss: 0.043659 \tValidation Loss: 0.188396\n",
      "Epoch: 33/100 \tTraining Loss: 0.020827 \tValidation Loss: 0.169567\n",
      "Validation loss decreased (0.002315 --> 0.000542).  Saving model ...\n",
      "Epoch: 34/100 \tTraining Loss: 0.003514 \tValidation Loss: 0.109756\n",
      "Epoch: 35/100 \tTraining Loss: 0.001735 \tValidation Loss: 0.116678\n",
      "Validation loss decreased (0.000542 --> 0.000251).  Saving model ...\n",
      "Epoch: 36/100 \tTraining Loss: 0.001083 \tValidation Loss: 0.132523\n",
      "Epoch: 37/100 \tTraining Loss: 0.000345 \tValidation Loss: 0.116091\n",
      "Epoch: 38/100 \tTraining Loss: 0.000179 \tValidation Loss: 0.118341\n",
      "Validation loss decreased (0.000251 --> 0.000213).  Saving model ...\n",
      "Epoch: 39/100 \tTraining Loss: 0.000150 \tValidation Loss: 0.118699\n",
      "Epoch: 40/100 \tTraining Loss: 0.000133 \tValidation Loss: 0.118696\n",
      "Epoch: 41/100 \tTraining Loss: 0.000123 \tValidation Loss: 0.107774\n",
      "Epoch: 42/100 \tTraining Loss: 0.000112 \tValidation Loss: 0.118596\n",
      "Epoch: 43/100 \tTraining Loss: 0.000103 \tValidation Loss: 0.118739\n",
      "Epoch: 44/100 \tTraining Loss: 0.000094 \tValidation Loss: 0.118918\n",
      "Epoch: 45/100 \tTraining Loss: 0.000088 \tValidation Loss: 0.118973\n",
      "Validation loss decreased (0.000213 --> 0.000155).  Saving model ...\n",
      "Epoch: 46/100 \tTraining Loss: 0.000084 \tValidation Loss: 0.118751\n",
      "Validation loss decreased (0.000155 --> 0.000141).  Saving model ...\n",
      "Epoch: 47/100 \tTraining Loss: 0.000080 \tValidation Loss: 0.118759\n",
      "Epoch: 48/100 \tTraining Loss: 0.000076 \tValidation Loss: 0.116819\n",
      "Epoch: 49/100 \tTraining Loss: 0.000071 \tValidation Loss: 0.118921\n",
      "Epoch: 50/100 \tTraining Loss: 0.000068 \tValidation Loss: 0.118884\n",
      "Epoch: 51/100 \tTraining Loss: 0.000065 \tValidation Loss: 0.118815\n",
      "Epoch: 52/100 \tTraining Loss: 0.000062 \tValidation Loss: 0.118941\n",
      "Epoch: 53/100 \tTraining Loss: 0.000058 \tValidation Loss: 0.117701\n",
      "Epoch: 54/100 \tTraining Loss: 0.000056 \tValidation Loss: 0.118714\n",
      "Epoch: 55/100 \tTraining Loss: 0.000054 \tValidation Loss: 0.118508\n",
      "Epoch: 56/100 \tTraining Loss: 0.000052 \tValidation Loss: 0.118731\n",
      "Epoch: 57/100 \tTraining Loss: 0.000049 \tValidation Loss: 0.118647\n",
      "Epoch: 58/100 \tTraining Loss: 0.000047 \tValidation Loss: 0.111005\n",
      "Epoch: 59/100 \tTraining Loss: 0.000046 \tValidation Loss: 0.118725\n",
      "Epoch: 60/100 \tTraining Loss: 0.000044 \tValidation Loss: 0.118708\n",
      "Epoch: 61/100 \tTraining Loss: 0.000042 \tValidation Loss: 0.118543\n",
      "Epoch: 62/100 \tTraining Loss: 0.000041 \tValidation Loss: 0.118755\n",
      "Epoch: 63/100 \tTraining Loss: 0.000039 \tValidation Loss: 0.118690\n",
      "Validation loss decreased (0.000141 --> 0.000133).  Saving model ...\n",
      "Epoch: 64/100 \tTraining Loss: 0.000037 \tValidation Loss: 0.118774\n",
      "Epoch: 65/100 \tTraining Loss: 0.000036 \tValidation Loss: 0.118757\n",
      "Validation loss decreased (0.000133 --> 0.000128).  Saving model ...\n",
      "Epoch: 66/100 \tTraining Loss: 0.000035 \tValidation Loss: 0.118649\n",
      "Epoch: 67/100 \tTraining Loss: 0.000034 \tValidation Loss: 0.118789\n",
      "Validation loss decreased (0.000128 --> 0.000071).  Saving model ...\n",
      "Epoch: 68/100 \tTraining Loss: 0.000033 \tValidation Loss: 0.118894\n",
      "Validation loss decreased (0.000071 --> 0.000066).  Saving model ...\n",
      "Epoch: 69/100 \tTraining Loss: 0.000032 \tValidation Loss: 0.118830\n",
      "Epoch: 70/100 \tTraining Loss: 0.000030 \tValidation Loss: 0.118937\n",
      "Epoch: 71/100 \tTraining Loss: 0.000029 \tValidation Loss: 0.119041\n",
      "Validation loss decreased (0.000066 --> 0.000062).  Saving model ...\n",
      "Epoch: 72/100 \tTraining Loss: 0.000028 \tValidation Loss: 0.118750\n",
      "Validation loss decreased (0.000062 --> 0.000035).  Saving model ...\n",
      "Epoch: 73/100 \tTraining Loss: 0.000027 \tValidation Loss: 0.119107\n",
      "Epoch: 74/100 \tTraining Loss: 0.000026 \tValidation Loss: 0.119094\n",
      "Epoch: 75/100 \tTraining Loss: 0.000026 \tValidation Loss: 0.119090\n",
      "Epoch: 76/100 \tTraining Loss: 0.000025 \tValidation Loss: 0.119150\n",
      "Epoch: 77/100 \tTraining Loss: 0.000024 \tValidation Loss: 0.119084\n",
      "Epoch: 78/100 \tTraining Loss: 0.000023 \tValidation Loss: 0.119141\n",
      "Epoch: 79/100 \tTraining Loss: 0.000022 \tValidation Loss: 0.119170\n",
      "Epoch: 80/100 \tTraining Loss: 0.000021 \tValidation Loss: 0.113376\n",
      "Validation loss decreased (0.000035 --> 0.000031).  Saving model ...\n",
      "Epoch: 81/100 \tTraining Loss: 0.000021 \tValidation Loss: 0.119243\n",
      "Epoch: 82/100 \tTraining Loss: 0.000020 \tValidation Loss: 0.119361\n",
      "Epoch: 83/100 \tTraining Loss: 0.000020 \tValidation Loss: 0.118840\n",
      "Epoch: 84/100 \tTraining Loss: 0.000019 \tValidation Loss: 0.119336\n",
      "Epoch: 85/100 \tTraining Loss: 0.000019 \tValidation Loss: 0.119314\n",
      "Epoch: 86/100 \tTraining Loss: 0.000018 \tValidation Loss: 0.119354\n",
      "Epoch: 87/100 \tTraining Loss: 0.000017 \tValidation Loss: 0.119450\n",
      "Epoch: 88/100 \tTraining Loss: 0.000017 \tValidation Loss: 0.119319\n",
      "Epoch: 89/100 \tTraining Loss: 0.000016 \tValidation Loss: 0.112770\n",
      "Epoch: 90/100 \tTraining Loss: 0.000016 \tValidation Loss: 0.119395\n",
      "Validation loss decreased (0.000031 --> 0.000018).  Saving model ...\n",
      "Epoch: 91/100 \tTraining Loss: 0.000015 \tValidation Loss: 0.118949\n",
      "Epoch: 92/100 \tTraining Loss: 0.000015 \tValidation Loss: 0.119447\n",
      "Epoch: 93/100 \tTraining Loss: 0.000014 \tValidation Loss: 0.119441\n",
      "Epoch: 94/100 \tTraining Loss: 0.000014 \tValidation Loss: 0.119442\n",
      "Epoch: 95/100 \tTraining Loss: 0.000013 \tValidation Loss: 0.119348\n",
      "Epoch: 96/100 \tTraining Loss: 0.000013 \tValidation Loss: 0.119502\n",
      "Epoch: 97/100 \tTraining Loss: 0.000013 \tValidation Loss: 0.119499\n",
      "Epoch: 98/100 \tTraining Loss: 0.000012 \tValidation Loss: 0.119601\n",
      "Epoch: 99/100 \tTraining Loss: 0.000012 \tValidation Loss: 0.113235\n",
      "Epoch: 100/100 \tTraining Loss: 0.000011 \tValidation Loss: 0.119738\n"
     ]
    }
   ],
   "source": [
    "train_losses,valid_losses,tr_acc,val_acc,best_epoch = train(epochs,train_loader,model,valid_loader,optimizer,criterion)"
   ]
  },
  {
   "cell_type": "code",
   "execution_count": 59,
   "id": "bd496cb9-75b2-42b2-a83e-009a8584c7de",
   "metadata": {},
   "outputs": [
    {
     "data": {
      "image/png": "[encoded data removed]",
      "text/plain": [
       "<Figure size 1440x864 with 2 Axes>"
      ]
     },
     "metadata": {
      "filenames": {
       "image/png": "D:\\Books\\Maryland\\Work_Offline\\Book\\_build\\jupyter_execute\\Transformers_30_0.png"
      },
      "needs_background": "light"
     },
     "output_type": "display_data"
    }
   ],
   "source": [
    "import matplotlib.pyplot as plt\n",
    "x     = [i for i in range(1,epochs+1)]\n",
    "xi    = [i for i in range(0,epochs+5,5)]\n",
    "xi[0] = 1\n",
    "f, axis = plt.subplots(2,1)\n",
    "f.set_figwidth(20)\n",
    "f.set_figheight(12)\n",
    "plt.subplots_adjust(top=0.8, wspace=0.2,hspace=0.3)\n",
    "\n",
    "axis[0].plot(x,train_losses)\n",
    "axis[0].plot(x,valid_losses)\n",
    "axis[0].axvline(best_epoch, color='black')\n",
    "axis[0].set_xticks(xi)\n",
    "axis[0].set_xlabel(\"Epochs\",fontweight=\"bold\",color = 'Black', fontsize='15', horizontalalignment='center')\n",
    "axis[0].set_ylabel(\"Loss\",fontweight=\"bold\",color = 'Black', fontsize='15', horizontalalignment='center')\n",
    "axis[0].set_title(\"Losses (with Multi-Head Attention)\",fontweight='bold',color = 'Black', fontsize='15', horizontalalignment='center')\n",
    "axis[0].legend([\"Training Loss\",\"Valid Loss\",f\"Best Epoch= {best_epoch}\"])\n",
    "\n",
    "\n",
    "axis[1].plot(x,tr_acc)\n",
    "axis[1].plot(x,val_acc)\n",
    "axis[1].set_xticks(xi)\n",
    "axis[1].set_xlabel(\"Epochs\", fontweight='bold',color = 'Black', fontsize='15', horizontalalignment='center')\n",
    "axis[1].set_ylabel(\"Accuracy\",fontweight='bold',color = 'Black', fontsize='15', horizontalalignment='center')\n",
    "axis[1].set_title(\"Accuracies (with Multi-Head Attention)\",fontweight='bold',color = 'Black', fontsize='15', horizontalalignment='center')\n",
    "axis[1].legend([\"Training Accuracy\",\"Valid Accuracy\"]);"
   ]
  },
  {
   "cell_type": "markdown",
   "id": "86067b69-7bd1-4caa-828d-056f7244869b",
   "metadata": {},
   "source": [
    "### Single-Head Attention (No PoE)"
   ]
  },
  {
   "cell_type": "code",
   "execution_count": 69,
   "id": "0eb8ee50-56cf-41b5-8952-834593b5d4cb",
   "metadata": {},
   "outputs": [
    {
     "data": {
      "text/plain": [
       "Transformer_Model(\n",
       "  (layers): ModuleList(\n",
       "    (0): TransformerBlock(\n",
       "      (attention): MultiHeadAttention(\n",
       "        (attention): Attention(\n",
       "          (softmax): Softmax(dim=-1)\n",
       "        )\n",
       "        (w_q): Linear(in_features=300, out_features=300, bias=True)\n",
       "        (w_k): Linear(in_features=300, out_features=300, bias=True)\n",
       "        (w_v): Linear(in_features=300, out_features=300, bias=True)\n",
       "        (w_concat): Linear(in_features=300, out_features=300, bias=True)\n",
       "      )\n",
       "      (norm1): LayerNorm((300,), eps=1e-05, elementwise_affine=True)\n",
       "      (norm2): LayerNorm((300,), eps=1e-05, elementwise_affine=True)\n",
       "      (feed_fwd): FeedForward(\n",
       "        (l1): Linear(in_features=300, out_features=150, bias=True)\n",
       "        (l2): Linear(in_features=150, out_features=300, bias=True)\n",
       "        (dropout): Dropout(p=0.0006, inplace=False)\n",
       "        (relu): ReLU()\n",
       "      )\n",
       "      (dropout1): Dropout(p=0.0006, inplace=False)\n",
       "      (dropout2): Dropout(p=0.0006, inplace=False)\n",
       "    )\n",
       "    (1): TransformerBlock(\n",
       "      (attention): MultiHeadAttention(\n",
       "        (attention): Attention(\n",
       "          (softmax): Softmax(dim=-1)\n",
       "        )\n",
       "        (w_q): Linear(in_features=300, out_features=300, bias=True)\n",
       "        (w_k): Linear(in_features=300, out_features=300, bias=True)\n",
       "        (w_v): Linear(in_features=300, out_features=300, bias=True)\n",
       "        (w_concat): Linear(in_features=300, out_features=300, bias=True)\n",
       "      )\n",
       "      (norm1): LayerNorm((300,), eps=1e-05, elementwise_affine=True)\n",
       "      (norm2): LayerNorm((300,), eps=1e-05, elementwise_affine=True)\n",
       "      (feed_fwd): FeedForward(\n",
       "        (l1): Linear(in_features=300, out_features=150, bias=True)\n",
       "        (l2): Linear(in_features=150, out_features=300, bias=True)\n",
       "        (dropout): Dropout(p=0.0006, inplace=False)\n",
       "        (relu): ReLU()\n",
       "      )\n",
       "      (dropout1): Dropout(p=0.0006, inplace=False)\n",
       "      (dropout2): Dropout(p=0.0006, inplace=False)\n",
       "    )\n",
       "  )\n",
       "  (linear_out): Linear(in_features=300, out_features=15, bias=True)\n",
       ")"
      ]
     },
     "execution_count": 69,
     "metadata": {},
     "output_type": "execute_result"
    }
   ],
   "source": [
    "n_head = 1\n",
    "model  = Transformer_Model(d_model, feed_fwd, output_dim, n_layers,n_head, drop_prob)\n",
    "optimizer = torch.optim.Adam(model.parameters(), lr=lr)\n",
    "criterion = nn.CrossEntropyLoss()\n",
    "model"
   ]
  },
  {
   "cell_type": "code",
   "execution_count": 71,
   "id": "888c245d-6409-4136-bace-6b8633c671b0",
   "metadata": {},
   "outputs": [
    {
     "name": "stdout",
     "output_type": "stream",
     "text": [
      "Validation loss decreased (inf --> 0.391958).  Saving model ...\n",
      "Validation loss decreased (0.391958 --> 0.238264).  Saving model ...\n",
      "Epoch: 1/100 \tTraining Loss: 1.175492 \tValidation Loss: 0.596091\n",
      "Validation loss decreased (0.238264 --> 0.233604).  Saving model ...\n",
      "Validation loss decreased (0.233604 --> 0.167538).  Saving model ...\n",
      "Epoch: 2/100 \tTraining Loss: 0.354066 \tValidation Loss: 0.460645\n",
      "Validation loss decreased (0.167538 --> 0.151649).  Saving model ...\n",
      "Validation loss decreased (0.151649 --> 0.124948).  Saving model ...\n",
      "Validation loss decreased (0.124948 --> 0.086300).  Saving model ...\n",
      "Epoch: 3/100 \tTraining Loss: 0.219174 \tValidation Loss: 0.269185\n",
      "Validation loss decreased (0.086300 --> 0.039770).  Saving model ...\n",
      "Epoch: 4/100 \tTraining Loss: 0.102423 \tValidation Loss: 0.270010\n",
      "Epoch: 5/100 \tTraining Loss: 0.086554 \tValidation Loss: 0.301405\n",
      "Validation loss decreased (0.039770 --> 0.039577).  Saving model ...\n",
      "Epoch: 6/100 \tTraining Loss: 0.086857 \tValidation Loss: 0.263694\n",
      "Validation loss decreased (0.039577 --> 0.032123).  Saving model ...\n",
      "Epoch: 7/100 \tTraining Loss: 0.074488 \tValidation Loss: 0.306995\n",
      "Epoch: 8/100 \tTraining Loss: 0.094254 \tValidation Loss: 0.538530\n",
      "Epoch: 9/100 \tTraining Loss: 0.204937 \tValidation Loss: 0.437959\n",
      "Epoch: 10/100 \tTraining Loss: 0.165254 \tValidation Loss: 0.323132\n",
      "Epoch: 11/100 \tTraining Loss: 0.120053 \tValidation Loss: 0.407438\n",
      "Validation loss decreased (0.032123 --> 0.023595).  Saving model ...\n",
      "Epoch: 12/100 \tTraining Loss: 0.087407 \tValidation Loss: 0.247474\n",
      "Epoch: 13/100 \tTraining Loss: 0.049321 \tValidation Loss: 0.372628\n",
      "Epoch: 14/100 \tTraining Loss: 0.103018 \tValidation Loss: 0.455646\n",
      "Epoch: 15/100 \tTraining Loss: 0.084127 \tValidation Loss: 0.324793\n",
      "Epoch: 16/100 \tTraining Loss: 0.057933 \tValidation Loss: 0.373571\n",
      "Epoch: 17/100 \tTraining Loss: 0.069996 \tValidation Loss: 0.364863\n",
      "Validation loss decreased (0.023595 --> 0.019925).  Saving model ...\n",
      "Epoch: 18/100 \tTraining Loss: 0.093191 \tValidation Loss: 0.356267\n",
      "Epoch: 19/100 \tTraining Loss: 0.097683 \tValidation Loss: 0.376935\n",
      "Epoch: 20/100 \tTraining Loss: 0.090195 \tValidation Loss: 0.400248\n",
      "Epoch: 21/100 \tTraining Loss: 0.139577 \tValidation Loss: 0.376872\n",
      "Epoch: 22/100 \tTraining Loss: 0.075088 \tValidation Loss: 0.416233\n",
      "Epoch: 23/100 \tTraining Loss: 0.061791 \tValidation Loss: 0.382138\n",
      "Epoch: 24/100 \tTraining Loss: 0.041535 \tValidation Loss: 0.270863\n",
      "Validation loss decreased (0.019925 --> 0.013579).  Saving model ...\n",
      "Epoch: 25/100 \tTraining Loss: 0.032361 \tValidation Loss: 0.348127\n",
      "Validation loss decreased (0.013579 --> 0.006455).  Saving model ...\n",
      "Epoch: 26/100 \tTraining Loss: 0.061830 \tValidation Loss: 0.337312\n",
      "Epoch: 27/100 \tTraining Loss: 0.046181 \tValidation Loss: 0.401832\n",
      "Epoch: 28/100 \tTraining Loss: 0.038529 \tValidation Loss: 0.371909\n",
      "Epoch: 29/100 \tTraining Loss: 0.075323 \tValidation Loss: 0.433991\n",
      "Epoch: 30/100 \tTraining Loss: 0.180854 \tValidation Loss: 0.593087\n",
      "Epoch: 31/100 \tTraining Loss: 0.156351 \tValidation Loss: 0.427124\n",
      "Epoch: 32/100 \tTraining Loss: 0.130058 \tValidation Loss: 0.544887\n",
      "Epoch: 33/100 \tTraining Loss: 0.072185 \tValidation Loss: 0.505194\n",
      "Epoch: 34/100 \tTraining Loss: 0.066385 \tValidation Loss: 0.329890\n",
      "Epoch: 35/100 \tTraining Loss: 0.031211 \tValidation Loss: 0.240549\n",
      "Validation loss decreased (0.006455 --> 0.004878).  Saving model ...\n",
      "Epoch: 36/100 \tTraining Loss: 0.034897 \tValidation Loss: 0.252278\n",
      "Validation loss decreased (0.004878 --> 0.004550).  Saving model ...\n",
      "Epoch: 37/100 \tTraining Loss: 0.014964 \tValidation Loss: 0.231225\n",
      "Epoch: 38/100 \tTraining Loss: 0.014406 \tValidation Loss: 0.439774\n",
      "Epoch: 39/100 \tTraining Loss: 0.189116 \tValidation Loss: 0.355788\n",
      "Epoch: 40/100 \tTraining Loss: 0.125962 \tValidation Loss: 0.405906\n",
      "Epoch: 41/100 \tTraining Loss: 0.100440 \tValidation Loss: 0.362860\n",
      "Validation loss decreased (0.004550 --> 0.004097).  Saving model ...\n",
      "Epoch: 42/100 \tTraining Loss: 0.050847 \tValidation Loss: 0.267490\n",
      "Epoch: 43/100 \tTraining Loss: 0.051590 \tValidation Loss: 0.404651\n",
      "Epoch: 44/100 \tTraining Loss: 0.047694 \tValidation Loss: 0.368295\n",
      "Epoch: 45/100 \tTraining Loss: 0.026805 \tValidation Loss: 0.312658\n",
      "Epoch: 46/100 \tTraining Loss: 0.019663 \tValidation Loss: 0.444956\n",
      "Epoch: 47/100 \tTraining Loss: 0.044188 \tValidation Loss: 0.311422\n",
      "Epoch: 48/100 \tTraining Loss: 0.087120 \tValidation Loss: 0.436162\n",
      "Epoch: 49/100 \tTraining Loss: 0.092775 \tValidation Loss: 0.292307\n",
      "Epoch: 50/100 \tTraining Loss: 0.093506 \tValidation Loss: 0.284674\n",
      "Epoch: 51/100 \tTraining Loss: 0.075537 \tValidation Loss: 0.386941\n",
      "Epoch: 52/100 \tTraining Loss: 0.171912 \tValidation Loss: 0.484137\n",
      "Epoch: 53/100 \tTraining Loss: 0.119008 \tValidation Loss: 0.263970\n",
      "Epoch: 54/100 \tTraining Loss: 0.198309 \tValidation Loss: 0.410688\n",
      "Epoch: 55/100 \tTraining Loss: 0.225071 \tValidation Loss: 0.372726\n",
      "Epoch: 56/100 \tTraining Loss: 0.166854 \tValidation Loss: 0.386688\n",
      "Epoch: 57/100 \tTraining Loss: 0.112449 \tValidation Loss: 0.251659\n",
      "Epoch: 58/100 \tTraining Loss: 0.049912 \tValidation Loss: 0.403182\n",
      "Epoch: 59/100 \tTraining Loss: 0.026147 \tValidation Loss: 0.366033\n",
      "Epoch: 60/100 \tTraining Loss: 0.028983 \tValidation Loss: 0.351291\n",
      "Epoch: 61/100 \tTraining Loss: 0.029993 \tValidation Loss: 0.354805\n",
      "Epoch: 62/100 \tTraining Loss: 0.032850 \tValidation Loss: 0.344557\n",
      "Epoch: 63/100 \tTraining Loss: 0.059420 \tValidation Loss: 0.240876\n",
      "Epoch: 64/100 \tTraining Loss: 0.060734 \tValidation Loss: 0.331974\n",
      "Epoch: 65/100 \tTraining Loss: 0.062588 \tValidation Loss: 0.247822\n",
      "Epoch: 66/100 \tTraining Loss: 0.046555 \tValidation Loss: 0.289476\n",
      "Epoch: 67/100 \tTraining Loss: 0.037840 \tValidation Loss: 0.301027\n",
      "Epoch: 68/100 \tTraining Loss: 0.056781 \tValidation Loss: 0.286933\n",
      "Epoch: 69/100 \tTraining Loss: 0.032541 \tValidation Loss: 0.348536\n",
      "Epoch: 70/100 \tTraining Loss: 0.051335 \tValidation Loss: 0.385422\n",
      "Epoch: 71/100 \tTraining Loss: 0.032524 \tValidation Loss: 0.344374\n",
      "Epoch: 72/100 \tTraining Loss: 0.029060 \tValidation Loss: 0.224917\n",
      "Epoch: 73/100 \tTraining Loss: 0.052855 \tValidation Loss: 0.339095\n",
      "Epoch: 74/100 \tTraining Loss: 0.108798 \tValidation Loss: 0.369267\n",
      "Epoch: 75/100 \tTraining Loss: 0.102550 \tValidation Loss: 0.574988\n",
      "Epoch: 76/100 \tTraining Loss: 0.148680 \tValidation Loss: 0.378233\n",
      "Epoch: 77/100 \tTraining Loss: 0.049345 \tValidation Loss: 0.217671\n",
      "Epoch: 78/100 \tTraining Loss: 0.044021 \tValidation Loss: 0.322248\n",
      "Epoch: 79/100 \tTraining Loss: 0.077643 \tValidation Loss: 0.331107\n",
      "Epoch: 80/100 \tTraining Loss: 0.077117 \tValidation Loss: 0.339089\n",
      "Epoch: 81/100 \tTraining Loss: 0.069348 \tValidation Loss: 0.482914\n",
      "Validation loss decreased (0.004097 --> 0.002421).  Saving model ...\n",
      "Epoch: 82/100 \tTraining Loss: 0.099981 \tValidation Loss: 0.378343\n",
      "Epoch: 83/100 \tTraining Loss: 0.035179 \tValidation Loss: 0.232519\n",
      "Epoch: 84/100 \tTraining Loss: 0.025362 \tValidation Loss: 0.277397\n",
      "Epoch: 85/100 \tTraining Loss: 0.029229 \tValidation Loss: 0.308541\n",
      "Epoch: 86/100 \tTraining Loss: 0.040908 \tValidation Loss: 0.331862\n",
      "Epoch: 87/100 \tTraining Loss: 0.036090 \tValidation Loss: 0.311562\n",
      "Epoch: 88/100 \tTraining Loss: 0.056523 \tValidation Loss: 0.288873\n",
      "Epoch: 89/100 \tTraining Loss: 0.044946 \tValidation Loss: 0.323439\n",
      "Epoch: 90/100 \tTraining Loss: 0.030793 \tValidation Loss: 0.288395\n",
      "Epoch: 91/100 \tTraining Loss: 0.042225 \tValidation Loss: 0.302127\n",
      "Epoch: 92/100 \tTraining Loss: 0.093201 \tValidation Loss: 0.255750\n",
      "Epoch: 93/100 \tTraining Loss: 0.085302 \tValidation Loss: 0.416027\n",
      "Epoch: 94/100 \tTraining Loss: 0.072850 \tValidation Loss: 0.312574\n",
      "Epoch: 95/100 \tTraining Loss: 0.061851 \tValidation Loss: 0.341400\n",
      "Epoch: 96/100 \tTraining Loss: 0.110735 \tValidation Loss: 0.376319\n",
      "Epoch: 97/100 \tTraining Loss: 0.072395 \tValidation Loss: 0.268279\n",
      "Epoch: 98/100 \tTraining Loss: 0.043054 \tValidation Loss: 0.271644\n",
      "Epoch: 99/100 \tTraining Loss: 0.024680 \tValidation Loss: 0.363348\n",
      "Epoch: 100/100 \tTraining Loss: 0.036942 \tValidation Loss: 0.256300\n"
     ]
    }
   ],
   "source": [
    "train_losses,valid_losses,tr_acc,val_acc,best_epoch = train(epochs,train_loader,model,valid_loader,optimizer,criterion,att=False)"
   ]
  },
  {
   "cell_type": "code",
   "execution_count": 72,
   "id": "74218275-dad4-4f67-8e27-735856b4d998",
   "metadata": {},
   "outputs": [
    {
     "data": {
      "image/png": "[encoded data removed]",
      "text/plain": [
       "<Figure size 1440x864 with 2 Axes>"
      ]
     },
     "metadata": {
      "filenames": {
       "image/png": "D:\\Books\\Maryland\\Work_Offline\\Book\\_build\\jupyter_execute\\Transformers_34_0.png"
      },
      "needs_background": "light"
     },
     "output_type": "display_data"
    }
   ],
   "source": [
    "x     = [i for i in range(1,epochs+1)]\n",
    "xi    = [i for i in range(0,epochs+5,5)]\n",
    "xi[0] = 1\n",
    "f, axis = plt.subplots(2,1)\n",
    "f.set_figwidth(20)\n",
    "f.set_figheight(12)\n",
    "plt.subplots_adjust(top=0.8, wspace=0.2,hspace=0.3)\n",
    "\n",
    "axis[0].plot(x,train_losses)\n",
    "axis[0].plot(x,valid_losses)\n",
    "axis[0].axvline(best_epoch, color='black')\n",
    "axis[0].set_xticks(xi)\n",
    "axis[0].set_xlabel(\"Epochs\",fontweight=\"bold\",color = 'Black', fontsize='15', horizontalalignment='center')\n",
    "axis[0].set_ylabel(\"Loss\",fontweight=\"bold\",color = 'Black', fontsize='15', horizontalalignment='center')\n",
    "axis[0].set_title(\"Losses (with 1-Head Attention)\",fontweight='bold',color = 'Black', fontsize='15', horizontalalignment='center')\n",
    "axis[0].legend([\"Training Loss\",\"Valid Loss\",f\"Best Epoch= {best_epoch}\"])\n",
    "\n",
    "\n",
    "axis[1].plot(x,tr_acc)\n",
    "axis[1].plot(x,val_acc)\n",
    "axis[1].set_xticks(xi)\n",
    "axis[1].set_xlabel(\"Epochs\", fontweight='bold',color = 'Black', fontsize='15', horizontalalignment='center')\n",
    "axis[1].set_ylabel(\"Accuracy\",fontweight='bold',color = 'Black', fontsize='15', horizontalalignment='center')\n",
    "axis[1].set_title(\"Accuracies (with 1-Head Attention)\",fontweight='bold',color = 'Black', fontsize='15', horizontalalignment='center')\n",
    "axis[1].legend([\"Training Accuracy\",\"Valid Accuracy\"]);"
   ]
  },
  {
   "cell_type": "markdown",
   "id": "8c5eb68c-4316-4744-8354-b3c4877c7028",
   "metadata": {},
   "source": [
    "## Testing"
   ]
  },
  {
   "cell_type": "code",
   "execution_count": 60,
   "id": "7da1e858-dc42-4737-8029-28d5c2925bcc",
   "metadata": {},
   "outputs": [],
   "source": [
    "def test(test_loader,net):\n",
    "    net.to(device)\n",
    "    net.eval()\n",
    "    num_correct = 0\n",
    "    valid_acc = 0\n",
    "    for inputs, labels in test_loader:\n",
    "        inputs, labels = inputs.to(device), labels.type(torch.LongTensor).to(device)\n",
    "        \n",
    "        output = net(inputs)[:,-1,:]\n",
    "\n",
    "        pred = torch.round(output.squeeze()) \n",
    "        top_value, top_index = torch.max(pred,1)\n",
    "        correct_tensor = top_index.eq(labels.float().view_as(top_index))\n",
    "        correct = np.squeeze(correct_tensor.to('cpu').numpy())\n",
    "        num_correct += np.sum(correct)\n",
    "    \n",
    "    test_acc = num_correct/((len(test_loader)-1)*batch_size)\n",
    "    print(\"Test accuracy: {:.3f} %\".format(test_acc*100))"
   ]
  },
  {
   "cell_type": "markdown",
   "id": "5c0c828e-9879-406f-9174-4e3bc6cebdec",
   "metadata": {},
   "source": [
    "### Multi-Head Attention (No PoE)"
   ]
  },
  {
   "cell_type": "code",
   "execution_count": 62,
   "id": "9048eb89-25cf-4cf0-87b8-b899be38d14a",
   "metadata": {},
   "outputs": [
    {
     "data": {
      "text/plain": [
       "<All keys matched successfully>"
      ]
     },
     "execution_count": 62,
     "metadata": {},
     "output_type": "execute_result"
    }
   ],
   "source": [
    "model = Transformer_Model(d_model, feed_fwd, output_dim, n_layers, n_head, drop_prob)\n",
    "model.load_state_dict(torch.load('Trns_Multi_Att.pt'))"
   ]
  },
  {
   "cell_type": "code",
   "execution_count": 63,
   "id": "69983726-5131-4040-adfc-de52e6dfec08",
   "metadata": {},
   "outputs": [
    {
     "name": "stdout",
     "output_type": "stream",
     "text": [
      "Test accuracy: 98.214 %\n"
     ]
    }
   ],
   "source": [
    "test(test_loader,model)"
   ]
  },
  {
   "cell_type": "markdown",
   "id": "77ea94c0-2bd0-467b-a597-1484a9ee2a5e",
   "metadata": {},
   "source": [
    "### Single-Head Attention (No PoE)"
   ]
  },
  {
   "cell_type": "code",
   "execution_count": 73,
   "id": "e25326ab-6b79-45fa-8428-26f6bfd4596e",
   "metadata": {},
   "outputs": [
    {
     "data": {
      "text/plain": [
       "<All keys matched successfully>"
      ]
     },
     "execution_count": 73,
     "metadata": {},
     "output_type": "execute_result"
    }
   ],
   "source": [
    "model = Transformer_Model(d_model, feed_fwd, output_dim, n_layers, n_head, drop_prob)\n",
    "model.load_state_dict(torch.load('Trns_Single_Att.pt'))"
   ]
  },
  {
   "cell_type": "code",
   "execution_count": 74,
   "id": "c8dda421-2289-4b71-855b-eb6d08fa9e74",
   "metadata": {},
   "outputs": [
    {
     "name": "stdout",
     "output_type": "stream",
     "text": [
      "Test accuracy: 93.105 %\n"
     ]
    }
   ],
   "source": [
    "test(test_loader,model)"
   ]
  }
 ],
 "metadata": {
  "kernelspec": {
   "display_name": "Python 3",
   "language": "python",
   "name": "python3"
  },
  "language_info": {
   "codemirror_mode": {
    "name": "ipython",
    "version": 3
   },
   "file_extension": ".py",
   "mimetype": "text/x-python",
   "name": "python",
   "nbconvert_exporter": "python",
   "pygments_lexer": "ipython3",
   "version": "3.8.3"
  }
 },
 "nbformat": 4,
 "nbformat_minor": 5
}